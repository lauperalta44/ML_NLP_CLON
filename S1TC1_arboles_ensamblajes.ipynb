{
 "cells": [
  {
   "cell_type": "markdown",
   "metadata": {},
   "source": [
    "![image info](https://raw.githubusercontent.com/albahnsen/MIAD_ML_and_NLP/main/images/banner_1.png)"
   ]
  },
  {
   "cell_type": "markdown",
   "metadata": {
    "tags": []
   },
   "source": [
    "# Taller: Construcción e implementación de árboles de decisión y métodos de ensamblaje\n",
    "\n",
    "En este taller podrá poner en práctica los sus conocimientos sobre construcción e implementación de árboles de decisión y métodos de ensamblajes. El taller está constituido por 9 puntos, 5 relacionados con árboles de decisión (parte A) y 4 con métodos de ensamblaje (parte B)."
   ]
  },
  {
   "cell_type": "markdown",
   "metadata": {
    "tags": []
   },
   "source": [
    "## Parte A - Árboles de decisión\n",
    "\n",
    "En esta parte del taller se usará el conjunto de datos de Capital Bikeshare de Kaggle, donde cada observación representa el alquiler de bicicletas durante una hora y día determinado. Para más detalles puede visitar los siguientes enlaces: [datos](https://archive.ics.uci.edu/ml/machine-learning-databases/00275/Bike-Sharing-Dataset.zip), [dicccionario de datos](https://archive.ics.uci.edu/ml/datasets/Bike+Sharing+Dataset#)."
   ]
  },
  {
   "cell_type": "markdown",
   "metadata": {
    "tags": []
   },
   "source": [
    "### Datos prestamo de bicicletas"
   ]
  },
  {
   "cell_type": "code",
   "execution_count": 1,
   "metadata": {},
   "outputs": [],
   "source": [
    "import warnings\n",
    "warnings.filterwarnings('ignore')"
   ]
  },
  {
   "cell_type": "code",
   "execution_count": 23,
   "metadata": {},
   "outputs": [],
   "source": [
    "# Importación de librerías\n",
    "%matplotlib inline\n",
    "import pandas as pd\n",
    "import numpy as np\n",
    "from sklearn.model_selection import cross_val_score\n",
    "from sklearn.linear_model import LinearRegression\n",
    "from sklearn.tree import DecisionTreeRegressor, export_graphviz"
   ]
  },
  {
   "cell_type": "code",
   "execution_count": 3,
   "metadata": {},
   "outputs": [
    {
     "data": {
      "text/html": [
       "<div>\n",
       "<style scoped>\n",
       "    .dataframe tbody tr th:only-of-type {\n",
       "        vertical-align: middle;\n",
       "    }\n",
       "\n",
       "    .dataframe tbody tr th {\n",
       "        vertical-align: top;\n",
       "    }\n",
       "\n",
       "    .dataframe thead th {\n",
       "        text-align: right;\n",
       "    }\n",
       "</style>\n",
       "<table border=\"1\" class=\"dataframe\">\n",
       "  <thead>\n",
       "    <tr style=\"text-align: right;\">\n",
       "      <th></th>\n",
       "      <th>season</th>\n",
       "      <th>holiday</th>\n",
       "      <th>workingday</th>\n",
       "      <th>weather</th>\n",
       "      <th>temp</th>\n",
       "      <th>atemp</th>\n",
       "      <th>humidity</th>\n",
       "      <th>windspeed</th>\n",
       "      <th>casual</th>\n",
       "      <th>registered</th>\n",
       "      <th>total</th>\n",
       "      <th>hour</th>\n",
       "    </tr>\n",
       "    <tr>\n",
       "      <th>datetime</th>\n",
       "      <th></th>\n",
       "      <th></th>\n",
       "      <th></th>\n",
       "      <th></th>\n",
       "      <th></th>\n",
       "      <th></th>\n",
       "      <th></th>\n",
       "      <th></th>\n",
       "      <th></th>\n",
       "      <th></th>\n",
       "      <th></th>\n",
       "      <th></th>\n",
       "    </tr>\n",
       "  </thead>\n",
       "  <tbody>\n",
       "    <tr>\n",
       "      <th>2011-01-01 00:00:00</th>\n",
       "      <td>1</td>\n",
       "      <td>0</td>\n",
       "      <td>0</td>\n",
       "      <td>1</td>\n",
       "      <td>9.84</td>\n",
       "      <td>14.395</td>\n",
       "      <td>81</td>\n",
       "      <td>0.0</td>\n",
       "      <td>3</td>\n",
       "      <td>13</td>\n",
       "      <td>16</td>\n",
       "      <td>0</td>\n",
       "    </tr>\n",
       "    <tr>\n",
       "      <th>2011-01-01 01:00:00</th>\n",
       "      <td>1</td>\n",
       "      <td>0</td>\n",
       "      <td>0</td>\n",
       "      <td>1</td>\n",
       "      <td>9.02</td>\n",
       "      <td>13.635</td>\n",
       "      <td>80</td>\n",
       "      <td>0.0</td>\n",
       "      <td>8</td>\n",
       "      <td>32</td>\n",
       "      <td>40</td>\n",
       "      <td>1</td>\n",
       "    </tr>\n",
       "    <tr>\n",
       "      <th>2011-01-01 02:00:00</th>\n",
       "      <td>1</td>\n",
       "      <td>0</td>\n",
       "      <td>0</td>\n",
       "      <td>1</td>\n",
       "      <td>9.02</td>\n",
       "      <td>13.635</td>\n",
       "      <td>80</td>\n",
       "      <td>0.0</td>\n",
       "      <td>5</td>\n",
       "      <td>27</td>\n",
       "      <td>32</td>\n",
       "      <td>2</td>\n",
       "    </tr>\n",
       "    <tr>\n",
       "      <th>2011-01-01 03:00:00</th>\n",
       "      <td>1</td>\n",
       "      <td>0</td>\n",
       "      <td>0</td>\n",
       "      <td>1</td>\n",
       "      <td>9.84</td>\n",
       "      <td>14.395</td>\n",
       "      <td>75</td>\n",
       "      <td>0.0</td>\n",
       "      <td>3</td>\n",
       "      <td>10</td>\n",
       "      <td>13</td>\n",
       "      <td>3</td>\n",
       "    </tr>\n",
       "    <tr>\n",
       "      <th>2011-01-01 04:00:00</th>\n",
       "      <td>1</td>\n",
       "      <td>0</td>\n",
       "      <td>0</td>\n",
       "      <td>1</td>\n",
       "      <td>9.84</td>\n",
       "      <td>14.395</td>\n",
       "      <td>75</td>\n",
       "      <td>0.0</td>\n",
       "      <td>0</td>\n",
       "      <td>1</td>\n",
       "      <td>1</td>\n",
       "      <td>4</td>\n",
       "    </tr>\n",
       "  </tbody>\n",
       "</table>\n",
       "</div>"
      ],
      "text/plain": [
       "                     season  holiday  workingday  weather  temp   atemp  \\\n",
       "datetime                                                                  \n",
       "2011-01-01 00:00:00       1        0           0        1  9.84  14.395   \n",
       "2011-01-01 01:00:00       1        0           0        1  9.02  13.635   \n",
       "2011-01-01 02:00:00       1        0           0        1  9.02  13.635   \n",
       "2011-01-01 03:00:00       1        0           0        1  9.84  14.395   \n",
       "2011-01-01 04:00:00       1        0           0        1  9.84  14.395   \n",
       "\n",
       "                     humidity  windspeed  casual  registered  total  hour  \n",
       "datetime                                                                   \n",
       "2011-01-01 00:00:00        81        0.0       3          13     16     0  \n",
       "2011-01-01 01:00:00        80        0.0       8          32     40     1  \n",
       "2011-01-01 02:00:00        80        0.0       5          27     32     2  \n",
       "2011-01-01 03:00:00        75        0.0       3          10     13     3  \n",
       "2011-01-01 04:00:00        75        0.0       0           1      1     4  "
      ]
     },
     "execution_count": 3,
     "metadata": {},
     "output_type": "execute_result"
    }
   ],
   "source": [
    "# Lectura de la información de archivo .csv\n",
    "bikes = pd.read_csv('https://raw.githubusercontent.com/davidzarruk/MIAD_ML_NLP_2023/main/datasets/bikeshare.csv', index_col='datetime', parse_dates=True)\n",
    "\n",
    "# Renombrar variable \"count\" a \"total\"\n",
    "bikes.rename(columns={'count':'total'}, inplace=True)\n",
    "\n",
    "# Crear la hora como una variable \n",
    "bikes['hour'] = bikes.index.hour\n",
    "\n",
    "# Visualización de los datos\n",
    "bikes.head()"
   ]
  },
  {
   "cell_type": "markdown",
   "metadata": {
    "tags": []
   },
   "source": [
    "### Punto 1 - Análisis descriptivo\n",
    "\n",
    "Ejecute las celdas 1.1 y 1.2. A partir de los resultados realice un análisis descriptivo sobre las variables \"season\" y \"hour\", escriba sus inferencias sobre los datos. Para complementar su análisis puede usar métricas como máximo, mínimo, percentiles entre otros."
   ]
  },
  {
   "cell_type": "code",
   "execution_count": 17,
   "metadata": {},
   "outputs": [
    {
     "data": {
      "text/html": [
       "<div>\n",
       "<style scoped>\n",
       "    .dataframe tbody tr th:only-of-type {\n",
       "        vertical-align: middle;\n",
       "    }\n",
       "\n",
       "    .dataframe tbody tr th {\n",
       "        vertical-align: top;\n",
       "    }\n",
       "\n",
       "    .dataframe thead th {\n",
       "        text-align: right;\n",
       "    }\n",
       "</style>\n",
       "<table border=\"1\" class=\"dataframe\">\n",
       "  <thead>\n",
       "    <tr style=\"text-align: right;\">\n",
       "      <th></th>\n",
       "      <th>mean</th>\n",
       "      <th>min</th>\n",
       "      <th>max</th>\n",
       "      <th>&lt;lambda_0&gt;</th>\n",
       "      <th>&lt;lambda_1&gt;</th>\n",
       "    </tr>\n",
       "    <tr>\n",
       "      <th>season</th>\n",
       "      <th></th>\n",
       "      <th></th>\n",
       "      <th></th>\n",
       "      <th></th>\n",
       "      <th></th>\n",
       "    </tr>\n",
       "  </thead>\n",
       "  <tbody>\n",
       "    <tr>\n",
       "      <th>1</th>\n",
       "      <td>116.34</td>\n",
       "      <td>1</td>\n",
       "      <td>801</td>\n",
       "      <td>24.0</td>\n",
       "      <td>164.0</td>\n",
       "    </tr>\n",
       "    <tr>\n",
       "      <th>2</th>\n",
       "      <td>215.25</td>\n",
       "      <td>1</td>\n",
       "      <td>873</td>\n",
       "      <td>49.0</td>\n",
       "      <td>321.0</td>\n",
       "    </tr>\n",
       "    <tr>\n",
       "      <th>3</th>\n",
       "      <td>234.42</td>\n",
       "      <td>1</td>\n",
       "      <td>977</td>\n",
       "      <td>68.0</td>\n",
       "      <td>347.0</td>\n",
       "    </tr>\n",
       "    <tr>\n",
       "      <th>4</th>\n",
       "      <td>198.99</td>\n",
       "      <td>1</td>\n",
       "      <td>948</td>\n",
       "      <td>51.0</td>\n",
       "      <td>294.0</td>\n",
       "    </tr>\n",
       "  </tbody>\n",
       "</table>\n",
       "</div>"
      ],
      "text/plain": [
       "          mean  min  max  <lambda_0>  <lambda_1>\n",
       "season                                          \n",
       "1       116.34    1  801        24.0       164.0\n",
       "2       215.25    1  873        49.0       321.0\n",
       "3       234.42    1  977        68.0       347.0\n",
       "4       198.99    1  948        51.0       294.0"
      ]
     },
     "execution_count": 17,
     "metadata": {},
     "output_type": "execute_result"
    }
   ],
   "source": [
    "# Celda 1.1\n",
    "bikes.groupby('season')['total'].agg(['mean', 'min', 'max', lambda x: x.quantile(0.25), lambda x: x.quantile(0.75)]).round(2)"
   ]
  },
  {
   "cell_type": "code",
   "execution_count": 18,
   "metadata": {
    "scrolled": true
   },
   "outputs": [
    {
     "data": {
      "text/html": [
       "<div>\n",
       "<style scoped>\n",
       "    .dataframe tbody tr th:only-of-type {\n",
       "        vertical-align: middle;\n",
       "    }\n",
       "\n",
       "    .dataframe tbody tr th {\n",
       "        vertical-align: top;\n",
       "    }\n",
       "\n",
       "    .dataframe thead th {\n",
       "        text-align: right;\n",
       "    }\n",
       "</style>\n",
       "<table border=\"1\" class=\"dataframe\">\n",
       "  <thead>\n",
       "    <tr style=\"text-align: right;\">\n",
       "      <th></th>\n",
       "      <th>mean</th>\n",
       "      <th>min</th>\n",
       "      <th>max</th>\n",
       "      <th>&lt;lambda_0&gt;</th>\n",
       "      <th>&lt;lambda_1&gt;</th>\n",
       "    </tr>\n",
       "    <tr>\n",
       "      <th>hour</th>\n",
       "      <th></th>\n",
       "      <th></th>\n",
       "      <th></th>\n",
       "      <th></th>\n",
       "      <th></th>\n",
       "    </tr>\n",
       "  </thead>\n",
       "  <tbody>\n",
       "    <tr>\n",
       "      <th>0</th>\n",
       "      <td>55.14</td>\n",
       "      <td>2</td>\n",
       "      <td>283</td>\n",
       "      <td>24.00</td>\n",
       "      <td>74.50</td>\n",
       "    </tr>\n",
       "    <tr>\n",
       "      <th>1</th>\n",
       "      <td>33.86</td>\n",
       "      <td>1</td>\n",
       "      <td>168</td>\n",
       "      <td>11.00</td>\n",
       "      <td>46.00</td>\n",
       "    </tr>\n",
       "    <tr>\n",
       "      <th>2</th>\n",
       "      <td>22.90</td>\n",
       "      <td>1</td>\n",
       "      <td>119</td>\n",
       "      <td>5.00</td>\n",
       "      <td>32.00</td>\n",
       "    </tr>\n",
       "    <tr>\n",
       "      <th>3</th>\n",
       "      <td>11.76</td>\n",
       "      <td>1</td>\n",
       "      <td>66</td>\n",
       "      <td>3.00</td>\n",
       "      <td>15.00</td>\n",
       "    </tr>\n",
       "    <tr>\n",
       "      <th>4</th>\n",
       "      <td>6.41</td>\n",
       "      <td>1</td>\n",
       "      <td>28</td>\n",
       "      <td>3.00</td>\n",
       "      <td>9.00</td>\n",
       "    </tr>\n",
       "    <tr>\n",
       "      <th>5</th>\n",
       "      <td>19.77</td>\n",
       "      <td>1</td>\n",
       "      <td>57</td>\n",
       "      <td>8.00</td>\n",
       "      <td>29.00</td>\n",
       "    </tr>\n",
       "    <tr>\n",
       "      <th>6</th>\n",
       "      <td>76.26</td>\n",
       "      <td>1</td>\n",
       "      <td>213</td>\n",
       "      <td>24.50</td>\n",
       "      <td>118.00</td>\n",
       "    </tr>\n",
       "    <tr>\n",
       "      <th>7</th>\n",
       "      <td>213.12</td>\n",
       "      <td>1</td>\n",
       "      <td>596</td>\n",
       "      <td>63.00</td>\n",
       "      <td>334.00</td>\n",
       "    </tr>\n",
       "    <tr>\n",
       "      <th>8</th>\n",
       "      <td>362.77</td>\n",
       "      <td>8</td>\n",
       "      <td>839</td>\n",
       "      <td>133.50</td>\n",
       "      <td>563.50</td>\n",
       "    </tr>\n",
       "    <tr>\n",
       "      <th>9</th>\n",
       "      <td>221.78</td>\n",
       "      <td>14</td>\n",
       "      <td>414</td>\n",
       "      <td>161.00</td>\n",
       "      <td>294.50</td>\n",
       "    </tr>\n",
       "    <tr>\n",
       "      <th>10</th>\n",
       "      <td>175.09</td>\n",
       "      <td>17</td>\n",
       "      <td>539</td>\n",
       "      <td>106.00</td>\n",
       "      <td>218.50</td>\n",
       "    </tr>\n",
       "    <tr>\n",
       "      <th>11</th>\n",
       "      <td>210.67</td>\n",
       "      <td>10</td>\n",
       "      <td>647</td>\n",
       "      <td>123.00</td>\n",
       "      <td>265.50</td>\n",
       "    </tr>\n",
       "    <tr>\n",
       "      <th>12</th>\n",
       "      <td>256.51</td>\n",
       "      <td>3</td>\n",
       "      <td>757</td>\n",
       "      <td>157.00</td>\n",
       "      <td>332.00</td>\n",
       "    </tr>\n",
       "    <tr>\n",
       "      <th>13</th>\n",
       "      <td>257.79</td>\n",
       "      <td>11</td>\n",
       "      <td>729</td>\n",
       "      <td>154.00</td>\n",
       "      <td>329.00</td>\n",
       "    </tr>\n",
       "    <tr>\n",
       "      <th>14</th>\n",
       "      <td>243.44</td>\n",
       "      <td>12</td>\n",
       "      <td>730</td>\n",
       "      <td>144.00</td>\n",
       "      <td>311.25</td>\n",
       "    </tr>\n",
       "    <tr>\n",
       "      <th>15</th>\n",
       "      <td>254.30</td>\n",
       "      <td>7</td>\n",
       "      <td>724</td>\n",
       "      <td>154.00</td>\n",
       "      <td>331.00</td>\n",
       "    </tr>\n",
       "    <tr>\n",
       "      <th>16</th>\n",
       "      <td>316.37</td>\n",
       "      <td>11</td>\n",
       "      <td>783</td>\n",
       "      <td>211.75</td>\n",
       "      <td>421.00</td>\n",
       "    </tr>\n",
       "    <tr>\n",
       "      <th>17</th>\n",
       "      <td>468.77</td>\n",
       "      <td>15</td>\n",
       "      <td>970</td>\n",
       "      <td>277.00</td>\n",
       "      <td>608.50</td>\n",
       "    </tr>\n",
       "    <tr>\n",
       "      <th>18</th>\n",
       "      <td>430.86</td>\n",
       "      <td>23</td>\n",
       "      <td>977</td>\n",
       "      <td>240.75</td>\n",
       "      <td>564.00</td>\n",
       "    </tr>\n",
       "    <tr>\n",
       "      <th>19</th>\n",
       "      <td>315.28</td>\n",
       "      <td>11</td>\n",
       "      <td>743</td>\n",
       "      <td>190.00</td>\n",
       "      <td>416.00</td>\n",
       "    </tr>\n",
       "    <tr>\n",
       "      <th>20</th>\n",
       "      <td>228.52</td>\n",
       "      <td>11</td>\n",
       "      <td>551</td>\n",
       "      <td>136.75</td>\n",
       "      <td>302.00</td>\n",
       "    </tr>\n",
       "    <tr>\n",
       "      <th>21</th>\n",
       "      <td>173.37</td>\n",
       "      <td>6</td>\n",
       "      <td>584</td>\n",
       "      <td>103.50</td>\n",
       "      <td>230.00</td>\n",
       "    </tr>\n",
       "    <tr>\n",
       "      <th>22</th>\n",
       "      <td>133.58</td>\n",
       "      <td>9</td>\n",
       "      <td>502</td>\n",
       "      <td>80.00</td>\n",
       "      <td>175.00</td>\n",
       "    </tr>\n",
       "    <tr>\n",
       "      <th>23</th>\n",
       "      <td>89.51</td>\n",
       "      <td>4</td>\n",
       "      <td>256</td>\n",
       "      <td>52.75</td>\n",
       "      <td>123.00</td>\n",
       "    </tr>\n",
       "  </tbody>\n",
       "</table>\n",
       "</div>"
      ],
      "text/plain": [
       "        mean  min  max  <lambda_0>  <lambda_1>\n",
       "hour                                          \n",
       "0      55.14    2  283       24.00       74.50\n",
       "1      33.86    1  168       11.00       46.00\n",
       "2      22.90    1  119        5.00       32.00\n",
       "3      11.76    1   66        3.00       15.00\n",
       "4       6.41    1   28        3.00        9.00\n",
       "5      19.77    1   57        8.00       29.00\n",
       "6      76.26    1  213       24.50      118.00\n",
       "7     213.12    1  596       63.00      334.00\n",
       "8     362.77    8  839      133.50      563.50\n",
       "9     221.78   14  414      161.00      294.50\n",
       "10    175.09   17  539      106.00      218.50\n",
       "11    210.67   10  647      123.00      265.50\n",
       "12    256.51    3  757      157.00      332.00\n",
       "13    257.79   11  729      154.00      329.00\n",
       "14    243.44   12  730      144.00      311.25\n",
       "15    254.30    7  724      154.00      331.00\n",
       "16    316.37   11  783      211.75      421.00\n",
       "17    468.77   15  970      277.00      608.50\n",
       "18    430.86   23  977      240.75      564.00\n",
       "19    315.28   11  743      190.00      416.00\n",
       "20    228.52   11  551      136.75      302.00\n",
       "21    173.37    6  584      103.50      230.00\n",
       "22    133.58    9  502       80.00      175.00\n",
       "23     89.51    4  256       52.75      123.00"
      ]
     },
     "execution_count": 18,
     "metadata": {},
     "output_type": "execute_result"
    }
   ],
   "source": [
    "# Celda 1.2\n",
    "bikes.groupby('hour')['total'].agg(['mean', 'min', 'max', lambda x: x.quantile(0.25), lambda x: x.quantile(0.75)]).round(2)"
   ]
  },
  {
   "cell_type": "markdown",
   "metadata": {},
   "source": [
    "Sobre la variable \"Season\" (Temporada), donde 1 es invierno, 2 es primavera, 3 es verano y 4 es otoño, se evidencia que en promedio durante el verano se rentan la mayor cantidad de bicicletas por hora (234 bicicletas); sin embargo, el 75% de las veces durante el verano se rentan 347 bicicletas o menos. Así mismo, durante el invierno se rentan la menor cantidad por hora (116 bicicletas), y el 75% de las veces durante esta temporada se rentan 164 bicicletas o menos. Se observa que, independientemente de la temporada, hay horas donde solo se renta una bicicleta en una hora. Mientras que en general, la cantidad máxima de bicicletas rentadas en una hora oscila entre 801 y 977.\n",
    "\n",
    "Sobre la variable \"Hour\" (Hora), la cual corresponde a la hora del día, se observa que la hora en que más se alquila bicicletas es a las 6PM (mínimo 23, máximo 977 bicicletas por hora). Sin embargo, las 5PM presenta el promedio más alto de alquiler de bicicletas (468 por hora) y en el 75% de los casos, se rentan 608 o menos bicicletas. Así mismo, se observa que de 3AM a 5AM se presenta la mínima actividad de alquiler (Mínimo 1, Máximo 66 bicicletas por hora). Y en promedio a las 4AM se observa la menor actividad de alquiler (6 bicicletas) y en el 75% de los casos se rentan (9 o menos bicicletas por hora)."
   ]
  },
  {
   "cell_type": "markdown",
   "metadata": {
    "tags": []
   },
   "source": [
    "### Punto 2 - Análisis de gráficos\n",
    "\n",
    "Primero ejecute la celda 2.1 y asegúrese de comprender el código y el resultado. Luego, en cada una de celdas 2.2 y 2.3 escriba un código que genere una gráfica del número de bicicletas rentadas promedio para cada valor de la variable \"hour\" (hora) cuando la variable \"season\" es igual a 1 (invierno) e igual a 3 (verano), respectivamente. Analice y escriba sus hallazgos."
   ]
  },
  {
   "cell_type": "code",
   "execution_count": 19,
   "metadata": {},
   "outputs": [
    {
     "data": {
      "text/plain": [
       "<AxesSubplot:xlabel='hour'>"
      ]
     },
     "execution_count": 19,
     "metadata": {},
     "output_type": "execute_result"
    },
    {
     "data": {
      "image/png": "[encoded data removed]",
      "text/plain": [
       "<Figure size 432x288 with 1 Axes>"
      ]
     },
     "metadata": {
      "needs_background": "light"
     },
     "output_type": "display_data"
    }
   ],
   "source": [
    "# Celda 2.1 - rentas promedio para cada valor de la variable \"hour\"\n",
    "bikes.groupby('hour').total.mean().plot()"
   ]
  },
  {
   "cell_type": "code",
   "execution_count": 31,
   "metadata": {},
   "outputs": [
    {
     "data": {
      "text/plain": [
       "<AxesSubplot:xlabel='hour'>"
      ]
     },
     "execution_count": 31,
     "metadata": {},
     "output_type": "execute_result"
    },
    {
     "data": {
      "image/png": "[encoded data removed]",
      "text/plain": [
       "<Figure size 432x288 with 1 Axes>"
      ]
     },
     "metadata": {
      "needs_background": "light"
     },
     "output_type": "display_data"
    }
   ],
   "source": [
    "# Celda 2.2 - \"season\"=1 escriba su código y hallazgos \n",
    "bikes_winter = bikes.loc[bikes['season'] == 1]\n",
    "bikes_winter.groupby('hour').total.mean().plot()"
   ]
  },
  {
   "cell_type": "code",
   "execution_count": 30,
   "metadata": {},
   "outputs": [
    {
     "data": {
      "text/plain": [
       "<AxesSubplot:xlabel='hour'>"
      ]
     },
     "execution_count": 30,
     "metadata": {},
     "output_type": "execute_result"
    },
    {
     "data": {
      "image/png": "[encoded data removed]",
      "text/plain": [
       "<Figure size 432x288 with 1 Axes>"
      ]
     },
     "metadata": {
      "needs_background": "light"
     },
     "output_type": "display_data"
    }
   ],
   "source": [
    "# Celda 2.3 - \"season\"=3 escriba su código y hallazgos \n",
    "bikes_summer = bikes.loc[bikes['season'] == 3]\n",
    "bikes_summer.groupby('hour').total.mean().plot()"
   ]
  },
  {
   "cell_type": "markdown",
   "metadata": {},
   "source": [
    "A partir de las tres gráficas, se observa que el comportamiento de la cantidad promedio de bicicletas rentadas por hora durante el transcurso del día es similar en todas las temporadas. Se observan tres picos de actividad, uno a las 8AM y a las 5PM (los más significativos) y también a la 1PM. Así mismo, se evidencia un valle de actividad durante la madrugada de 12PM a 5AM, cuando se dispara el primer pico de actividad.También se observa que después de las 6PM cae progresivamente la actividad de alquiler. Una de las diferencias más notable entre la actividad de alquiler entre la temporada de invierno y verano, es que los dos picos más significativos de actividad durante el verano son en promedio iguales (250 bicicletas por horas), mientras que en verano el primero pico a las 8AM es menor (400 bicicletas) que el de las 5PM (560 bicicletas)."
   ]
  },
  {
   "cell_type": "markdown",
   "metadata": {
    "tags": []
   },
   "source": [
    "### Punto 3 - Regresión lineal\n",
    "En la celda 3 ajuste un modelo de regresión lineal a todo el conjunto de datos, utilizando \"total\" como variable de respuesta y \"season\" y \"hour\" como las únicas variables predictoras, teniendo en cuenta que la variable \"season\" es categórica. Luego, imprima los coeficientes e interprételos. ¿Cuáles son las limitaciones de la regresión lineal en este caso?"
   ]
  },
  {
   "cell_type": "code",
   "execution_count": 44,
   "metadata": {},
   "outputs": [
    {
     "name": "stdout",
     "output_type": "stream",
     "text": [
      "                     1  2  3  hour\n",
      "datetime                          \n",
      "2011-01-01 00:00:00  1  0  0     0\n",
      "2011-01-01 01:00:00  1  0  0     1\n",
      "2011-01-01 02:00:00  1  0  0     2\n",
      "2011-01-01 03:00:00  1  0  0     3\n",
      "2011-01-01 04:00:00  1  0  0     4\n",
      "...                 .. .. ..   ...\n",
      "2012-12-19 19:00:00  0  0  0    19\n",
      "2012-12-19 20:00:00  0  0  0    20\n",
      "2012-12-19 21:00:00  0  0  0    21\n",
      "2012-12-19 22:00:00  0  0  0    22\n",
      "2012-12-19 23:00:00  0  0  0    23\n",
      "\n",
      "[10886 rows x 4 columns]\n",
      "Coeficientes:\n",
      " [-84.08311787  16.23411404  35.38443207  10.54520609]\n"
     ]
    }
   ],
   "source": [
    "# Celda 3\n",
    "\n",
    "season = pd.get_dummies(bikes['season'])\n",
    "hour = bikes.loc[:,'hour']\n",
    "\n",
    "X = pd.concat([season.iloc[:,0:3], hour], axis=1)\n",
    "y = bikes['total']\n",
    "print(X)\n",
    "\n",
    "reg = LinearRegression()\n",
    "reg.fit(X, y)\n",
    "print('Coeficientes:\\n', reg.coef_)"
   ]
  },
  {
   "cell_type": "markdown",
   "metadata": {},
   "source": [
    "Dado que la variable \"Season\" es categorica, se procede a obtener un set de datos dummy de la varaible, donde solo se incluyen 3 de las cuatro varaible dummies para evitar problemas de multicolinealidad, luego se procede a ajustar un modelos de regresion lineal a todo el el conjunto de datos, para obtener los siguientes coeficientes:\n",
    "\n",
    "- El coeficiente de -84.08 para la variable dummy \"1\" es decir es invierno, indica que, en promedio, durante el invierno se alquilan 84.08 bicicletas menos por hora que durante las otras estaciones del año, manteniendo constante la hora del día.\n",
    "\n",
    "- El coeficiente de 16.23 para la variable dummy \"2\" es decir es primavera, indica que, en promedio, durante la primavera se alquilan 16.23 bicicletas más por hora que durante las otras estaciones del año, manteniendo constante la hora del día.\n",
    "\n",
    "- El coeficiente de 35.38 para la variable dummy \"3\" es decir es verano, indica que, en promedio, durante el verano se alquilan 35.38 bicicletas más por hora que durante las otras estaciones del año, manteniendo constante la hora del día y otras variables predictoras.\n",
    "\n",
    "- El coeficiente de 10.54 para la variable \"hour\" indica que, en promedio, por cada hora más que pasa del día (de 0 a 23), se alquilan 10.54 bicicletas más por hora, manteniendo constante la estación del año.\n",
    "\n",
    "Con respecto a las limitaciones de la regresión lineal, dado que la variable season es categórica, y con el fin de evitar la multicolinealidad se retiró la variable dummy que toma el valor de 1 cuando es otoño, no se obtuvo coeficiente para explicar la relación de la estación otoño con la cantidad de bicicletas rentadas. Y sobre la variable hour, el modelo no puede capturar las fluctuaciones que se evidencian durante el día. Como resultado, se asume que la cantidad de bicicletas rentadas siempre aumenta durante el transcurso del día, lo cual no es preciso."
   ]
  },
  {
   "cell_type": "markdown",
   "metadata": {
    "tags": []
   },
   "source": [
    "### Punto 4 - Árbol de decisión manual\n",
    "En la celda 4 cree un árbol de decisiones para pronosticar la variable \"total\" iterando **manualmente** sobre las variables \"hour\" y  \"season\". El árbol debe tener al menos 6 nodos finales."
   ]
  },
  {
   "cell_type": "code",
   "execution_count": 106,
   "metadata": {},
   "outputs": [],
   "source": [
    "# Celda 4\n",
    "\n",
    "from sklearn.model_selection import train_test_split\n",
    "X_train, X_test, y_train, y_test = train_test_split(X, y, test_size=0.33, random_state=42)\n",
    "\n",
    "# Definición de la función que calcula el gini index\n",
    "def gini(y):\n",
    "    if y.shape[0] == 0:\n",
    "        return 0\n",
    "    else:\n",
    "        return 1 - (y.mean()**2 + (1 - y.mean())**2)\n",
    "\n",
    "# Definición de la función gini_imputiry para calular la ganancia de una variable predictora j dado el punto de corte k\n",
    "def gini_impurity(X_col, y, split):\n",
    "    filter_l = X_col < split\n",
    "    y_l = y.loc[filter_l]\n",
    "    y_r = y.loc[~filter_l]\n",
    "    n_l = y_l.shape[0]\n",
    "    n_r = y_r.shape[0]\n",
    "    gini_y = gini(y)\n",
    "    gini_l = gini(y_l)\n",
    "    gini_r = gini(y_r)\n",
    "    gini_impurity_ = gini_y - (n_l / (n_l + n_r) * gini_l + n_r / (n_l + n_r) * gini_r)\n",
    "    return gini_impurity_\n",
    "\n",
    "# Definición de la función best_split para calcular cuál es la mejor variable y punto de cortepara hacer la bifurcación del árbol\n",
    "def best_split(X, y, num_pct=10):\n",
    "    features = range(X.shape[1])   \n",
    "    best_split = [0, 0, 0]  # j, split, gain\n",
    "    # Para todas las varibles \n",
    "    for j in features:\n",
    "        splits = np.percentile(X.iloc[:, j], np.arange(0, 100, 100.0 / (num_pct+1)).tolist())\n",
    "        splits = np.unique(splits)[1:]\n",
    "        # Para cada partición\n",
    "        for split in splits:\n",
    "            gain = gini_impurity(X.iloc[:, j], y, split)           \n",
    "            if gain > best_split[2]:\n",
    "                best_split = [j, split, gain]\n",
    "    return best_split\n",
    "\n",
    "# Definición de la función tree_grow para hacer un crecimiento recursivo del árbol\n",
    "def tree_grow(X, y, level=0, min_gain=0.001, max_depth=None, num_pct=10):\n",
    "    # Si solo es una observación\n",
    "    if X.shape[0] == 1:\n",
    "        tree = dict(y_pred=y.iloc[:1].values[0], y_prob=0.5, level=level, split=-1, n_samples=1, gain=0)\n",
    "        return tree\n",
    "    # Calcular la mejor división\n",
    "    j, split, gain = best_split(X, y, num_pct)\n",
    "    # Guardar el árbol y estimar la predicción\n",
    "    y_pred = int(y.mean() >= 0.5) \n",
    "    y_prob = (y.sum() + 1.0) / (y.shape[0] + 2.0)  # Corrección Laplace \n",
    "    tree = dict(y_pred=y_pred, y_prob=y_prob, level=level, split=-1, n_samples=X.shape[0], gain=gain)\n",
    "    # Revisar el criterio de parada \n",
    "    if gain < min_gain:\n",
    "        return tree\n",
    "    if max_depth is not None:\n",
    "        if level >= max_depth:\n",
    "            return tree \n",
    "    # Verificar si los nodos hijos no son nulos\n",
    "    if 'sl' in tree and 'sr' in tree:\n",
    "        if tree['sl'] is not None and tree['sr'] is not None:\n",
    "            if tree['sl']['n_samples'] + tree['sr']['n_samples'] < 6:  # Verificar el número mínimo de nodos finales\n",
    "                return tree\n",
    "    # Continuar creando la partición\n",
    "    filter_l = X.iloc[:, j] < split\n",
    "    X_l, y_l = X.loc[filter_l], y.loc[filter_l]\n",
    "    X_r, y_r = X.loc[~filter_l], y.loc[~filter_l]\n",
    "    tree['split'] = [j, split]\n",
    "    # Siguiente iteración para cada partición\n",
    "    tree['sl'] = tree_grow(X_l, y_l, level + 1, min_gain=min_gain, max_depth=max_depth, num_pct=num_pct)\n",
    "    tree['sr'] = tree_grow(X_r, y_r, level + 1, min_gain=min_gain, max_depth=max_depth, num_pct=num_pct)\n",
    "    return tree\n",
    "\n",
    "# Definición de la función tree_predict para hacer predicciones según las variables 'X' y el árbol 'tree'\n",
    "def tree_predict(X, tree, proba=False):\n",
    "    predicted = np.ones(X.shape[0])\n",
    "    # Revisar si es el nodo final\n",
    "    if tree['split'] == -1:\n",
    "        if not proba:\n",
    "            predicted = predicted * tree['y_pred']\n",
    "        else:\n",
    "            predicted = predicted * tree['y_prob']    \n",
    "    else:\n",
    "        j, split = tree['split']\n",
    "        filter_l = (X.iloc[:, j] < split)\n",
    "        X_l = X.loc[filter_l]\n",
    "        X_r = X.loc[~filter_l]\n",
    "        if X_l.shape[0] == 0:  # Si el nodo izquierdo está vacio solo continua con el derecho \n",
    "            predicted[~filter_l] = tree_predict(X_r, tree['sr'], proba)\n",
    "        elif X_r.shape[0] == 0:  #  Si el nodo derecho está vacio solo continua con el izquierdo\n",
    "            predicted[filter_l] = tree_predict(X_l, tree['sl'], proba)\n",
    "        else:\n",
    "            predicted[filter_l] = tree_predict(X_l, tree['sl'], proba)\n",
    "            predicted[~filter_l] = tree_predict(X_r, tree['sr'], proba)\n",
    "    return predicted"
   ]
  },
  {
   "cell_type": "code",
   "execution_count": 108,
   "metadata": {},
   "outputs": [
    {
     "data": {
      "text/plain": [
       "array([0., 0., 0., ..., 0., 1., 0.])"
      ]
     },
     "execution_count": 108,
     "metadata": {},
     "output_type": "execute_result"
    }
   ],
   "source": [
    "# Obtención de la variable 'j', su punto de corte 'split' y su ganancia 'gain'\n",
    "j, split, gain = best_split(X_train, y_train, 5)\n",
    "\n",
    "# Aplicación de la función tree_grow\n",
    "tree = tree_grow(X_train, y_train, level=0, min_gain=0.001, max_depth=6, num_pct=10)\n",
    "\n",
    "# Ejecución de función tree_predict\n",
    "tree_predict(X_test, tree)"
   ]
  },
  {
   "cell_type": "markdown",
   "metadata": {
    "tags": []
   },
   "source": [
    "### Punto 5 - Árbol de decisión con librería\n",
    "En la celda 5 entrene un árbol de decisiones con la **librería sklearn**, usando las variables predictoras \"season\" y \"hour\" y calibre los parámetros que considere conveniente para obtener un mejor desempeño. Recuerde dividir los datos en conjuntos de entrenamiento y validación para esto. Comente el desempeño del modelo con alguna métrica de desempeño de modelos de regresión y compare desempeño con el modelo del punto 3."
   ]
  },
  {
   "cell_type": "code",
   "execution_count": 73,
   "metadata": {},
   "outputs": [
    {
     "data": {
      "text/plain": [
       "(12755.42913740627, 8)"
      ]
     },
     "execution_count": 73,
     "metadata": {},
     "output_type": "execute_result"
    },
    {
     "data": {
      "image/png": "[encoded data removed]",
      "text/plain": [
       "<Figure size 432x288 with 1 Axes>"
      ]
     },
     "metadata": {
      "needs_background": "light"
     },
     "output_type": "display_data"
    }
   ],
   "source": [
    "# Celda 5\n",
    "\n",
    "from sklearn.model_selection import cross_val_score\n",
    "\n",
    "max_depth_range = range(1, 21)\n",
    "mse_scores = []\n",
    "\n",
    "for depth in max_depth_range:\n",
    "    clf = DecisionTreeRegressor(max_depth=depth, random_state=1)\n",
    "    mse = -1 * cross_val_score(clf, X_train, y_train, cv=10, scoring='neg_mean_squared_error').mean()\n",
    "    mse_scores.append(mse)\n",
    "\n",
    "plt.plot(max_depth_range, mse_scores)\n",
    "plt.xlabel('max_depth')\n",
    "plt.ylabel('mse_scores')\n",
    "\n",
    "# Mejor MSE (desempeño del modelo) y su correspondiente max_depth\n",
    "sorted(zip(mse_scores, max_depth_range))[::1][0]"
   ]
  },
  {
   "cell_type": "code",
   "execution_count": 74,
   "metadata": {},
   "outputs": [
    {
     "name": "stdout",
     "output_type": "stream",
     "text": [
      "Mean Squared Error (MSE):  13698.232540452216\n",
      "R-squared (R2):  0.5768294097187254\n"
     ]
    }
   ],
   "source": [
    "from sklearn.metrics import mean_absolute_error, mean_squared_error, r2_score\n",
    "\n",
    "clf = DecisionTreeRegressor(max_depth=8, random_state=1)\n",
    "clf.fit(X_train, y_train)\n",
    "y_pred = clf.predict(X_test)\n",
    "\n",
    "mse = mean_squared_error(y_test, y_pred)\n",
    "r2 = r2_score(y_test, y_pred)\n",
    "\n",
    "print(\"Mean Squared Error (MSE): \", mse)\n",
    "print(\"R-squared (R2): \", r2)"
   ]
  },
  {
   "cell_type": "code",
   "execution_count": 72,
   "metadata": {},
   "outputs": [
    {
     "name": "stdout",
     "output_type": "stream",
     "text": [
      "Mean Squared Error (MSE):  25366.611967658602\n",
      "R-squared (R2):  0.21636575170625916\n"
     ]
    }
   ],
   "source": [
    "reg = LinearRegression()\n",
    "reg.fit(X_train, y_train)\n",
    "y_pred = reg.predict(X_test)\n",
    "\n",
    "mse = mean_squared_error(y_test, y_pred)\n",
    "r2 = r2_score(y_test, y_pred)\n",
    "\n",
    "print(\"Mean Squared Error (MSE): \", mse)\n",
    "print(\"R-squared (R2): \", r2)"
   ]
  },
  {
   "cell_type": "markdown",
   "metadata": {},
   "source": [
    "Después de entrenar un árbol de decisiones con la librería sklearn, y calibrar la profundidad máxima del árbol, se obtiene que un árbol con 8 niveles de profundidad presenta el mejor desempeño al arrojar un MSE de 12755.42. Así mismo se observa que el modelo tiene un R2 de 0.57, mientras que un modelo de regresión lineal tienen un menor desempeñó con un MSE mayor de 25366.61 y un R2 inferior de 0.21, es decir, el modelo solo explica el 21% de la variabilidad de los datos observados."
   ]
  },
  {
   "cell_type": "markdown",
   "metadata": {
    "tags": []
   },
   "source": [
    "## Parte B - Métodos de ensamblajes\n",
    "En esta parte del taller se usará el conjunto de datos de Popularidad de Noticias Online. El objetivo es predecir si la notica es popular o no, la popularidad está dada por la cantidad de reacciones en redes sociales. Para más detalles puede visitar el siguiente enlace: [datos](https://archive.ics.uci.edu/ml/datasets/online+news+popularity)."
   ]
  },
  {
   "cell_type": "markdown",
   "metadata": {
    "tags": []
   },
   "source": [
    "### Datos popularidad de noticias"
   ]
  },
  {
   "cell_type": "code",
   "execution_count": 75,
   "metadata": {},
   "outputs": [
    {
     "data": {
      "text/html": [
       "<div>\n",
       "<style scoped>\n",
       "    .dataframe tbody tr th:only-of-type {\n",
       "        vertical-align: middle;\n",
       "    }\n",
       "\n",
       "    .dataframe tbody tr th {\n",
       "        vertical-align: top;\n",
       "    }\n",
       "\n",
       "    .dataframe thead th {\n",
       "        text-align: right;\n",
       "    }\n",
       "</style>\n",
       "<table border=\"1\" class=\"dataframe\">\n",
       "  <thead>\n",
       "    <tr style=\"text-align: right;\">\n",
       "      <th></th>\n",
       "      <th>url</th>\n",
       "      <th>timedelta</th>\n",
       "      <th>n_tokens_title</th>\n",
       "      <th>n_tokens_content</th>\n",
       "      <th>n_unique_tokens</th>\n",
       "      <th>n_non_stop_words</th>\n",
       "      <th>n_non_stop_unique_tokens</th>\n",
       "      <th>num_hrefs</th>\n",
       "      <th>num_self_hrefs</th>\n",
       "      <th>num_imgs</th>\n",
       "      <th>...</th>\n",
       "      <th>min_positive_polarity</th>\n",
       "      <th>max_positive_polarity</th>\n",
       "      <th>avg_negative_polarity</th>\n",
       "      <th>min_negative_polarity</th>\n",
       "      <th>max_negative_polarity</th>\n",
       "      <th>title_subjectivity</th>\n",
       "      <th>title_sentiment_polarity</th>\n",
       "      <th>abs_title_subjectivity</th>\n",
       "      <th>abs_title_sentiment_polarity</th>\n",
       "      <th>Popular</th>\n",
       "    </tr>\n",
       "  </thead>\n",
       "  <tbody>\n",
       "    <tr>\n",
       "      <th>0</th>\n",
       "      <td>http://mashable.com/2014/12/10/cia-torture-rep...</td>\n",
       "      <td>28.0</td>\n",
       "      <td>9.0</td>\n",
       "      <td>188.0</td>\n",
       "      <td>0.732620</td>\n",
       "      <td>1.0</td>\n",
       "      <td>0.844262</td>\n",
       "      <td>5.0</td>\n",
       "      <td>1.0</td>\n",
       "      <td>1.0</td>\n",
       "      <td>...</td>\n",
       "      <td>0.200000</td>\n",
       "      <td>0.80</td>\n",
       "      <td>-0.487500</td>\n",
       "      <td>-0.60</td>\n",
       "      <td>-0.250000</td>\n",
       "      <td>0.9</td>\n",
       "      <td>0.8</td>\n",
       "      <td>0.4</td>\n",
       "      <td>0.8</td>\n",
       "      <td>1</td>\n",
       "    </tr>\n",
       "    <tr>\n",
       "      <th>1</th>\n",
       "      <td>http://mashable.com/2013/10/18/bitlock-kicksta...</td>\n",
       "      <td>447.0</td>\n",
       "      <td>7.0</td>\n",
       "      <td>297.0</td>\n",
       "      <td>0.653199</td>\n",
       "      <td>1.0</td>\n",
       "      <td>0.815789</td>\n",
       "      <td>9.0</td>\n",
       "      <td>4.0</td>\n",
       "      <td>1.0</td>\n",
       "      <td>...</td>\n",
       "      <td>0.160000</td>\n",
       "      <td>0.50</td>\n",
       "      <td>-0.135340</td>\n",
       "      <td>-0.40</td>\n",
       "      <td>-0.050000</td>\n",
       "      <td>0.1</td>\n",
       "      <td>-0.1</td>\n",
       "      <td>0.4</td>\n",
       "      <td>0.1</td>\n",
       "      <td>0</td>\n",
       "    </tr>\n",
       "    <tr>\n",
       "      <th>2</th>\n",
       "      <td>http://mashable.com/2013/07/24/google-glass-po...</td>\n",
       "      <td>533.0</td>\n",
       "      <td>11.0</td>\n",
       "      <td>181.0</td>\n",
       "      <td>0.660377</td>\n",
       "      <td>1.0</td>\n",
       "      <td>0.775701</td>\n",
       "      <td>4.0</td>\n",
       "      <td>3.0</td>\n",
       "      <td>1.0</td>\n",
       "      <td>...</td>\n",
       "      <td>0.136364</td>\n",
       "      <td>1.00</td>\n",
       "      <td>0.000000</td>\n",
       "      <td>0.00</td>\n",
       "      <td>0.000000</td>\n",
       "      <td>0.3</td>\n",
       "      <td>1.0</td>\n",
       "      <td>0.2</td>\n",
       "      <td>1.0</td>\n",
       "      <td>0</td>\n",
       "    </tr>\n",
       "    <tr>\n",
       "      <th>3</th>\n",
       "      <td>http://mashable.com/2013/11/21/these-are-the-m...</td>\n",
       "      <td>413.0</td>\n",
       "      <td>12.0</td>\n",
       "      <td>781.0</td>\n",
       "      <td>0.497409</td>\n",
       "      <td>1.0</td>\n",
       "      <td>0.677350</td>\n",
       "      <td>10.0</td>\n",
       "      <td>3.0</td>\n",
       "      <td>1.0</td>\n",
       "      <td>...</td>\n",
       "      <td>0.100000</td>\n",
       "      <td>1.00</td>\n",
       "      <td>-0.195701</td>\n",
       "      <td>-0.40</td>\n",
       "      <td>-0.071429</td>\n",
       "      <td>0.0</td>\n",
       "      <td>0.0</td>\n",
       "      <td>0.5</td>\n",
       "      <td>0.0</td>\n",
       "      <td>0</td>\n",
       "    </tr>\n",
       "    <tr>\n",
       "      <th>4</th>\n",
       "      <td>http://mashable.com/2014/02/11/parking-ticket-...</td>\n",
       "      <td>331.0</td>\n",
       "      <td>8.0</td>\n",
       "      <td>177.0</td>\n",
       "      <td>0.685714</td>\n",
       "      <td>1.0</td>\n",
       "      <td>0.830357</td>\n",
       "      <td>3.0</td>\n",
       "      <td>2.0</td>\n",
       "      <td>1.0</td>\n",
       "      <td>...</td>\n",
       "      <td>0.100000</td>\n",
       "      <td>0.55</td>\n",
       "      <td>-0.175000</td>\n",
       "      <td>-0.25</td>\n",
       "      <td>-0.100000</td>\n",
       "      <td>0.0</td>\n",
       "      <td>0.0</td>\n",
       "      <td>0.5</td>\n",
       "      <td>0.0</td>\n",
       "      <td>0</td>\n",
       "    </tr>\n",
       "  </tbody>\n",
       "</table>\n",
       "<p>5 rows × 61 columns</p>\n",
       "</div>"
      ],
      "text/plain": [
       "                                                 url  timedelta  \\\n",
       "0  http://mashable.com/2014/12/10/cia-torture-rep...       28.0   \n",
       "1  http://mashable.com/2013/10/18/bitlock-kicksta...      447.0   \n",
       "2  http://mashable.com/2013/07/24/google-glass-po...      533.0   \n",
       "3  http://mashable.com/2013/11/21/these-are-the-m...      413.0   \n",
       "4  http://mashable.com/2014/02/11/parking-ticket-...      331.0   \n",
       "\n",
       "   n_tokens_title  n_tokens_content  n_unique_tokens  n_non_stop_words  \\\n",
       "0             9.0             188.0         0.732620               1.0   \n",
       "1             7.0             297.0         0.653199               1.0   \n",
       "2            11.0             181.0         0.660377               1.0   \n",
       "3            12.0             781.0         0.497409               1.0   \n",
       "4             8.0             177.0         0.685714               1.0   \n",
       "\n",
       "   n_non_stop_unique_tokens  num_hrefs  num_self_hrefs  num_imgs  ...  \\\n",
       "0                  0.844262        5.0             1.0       1.0  ...   \n",
       "1                  0.815789        9.0             4.0       1.0  ...   \n",
       "2                  0.775701        4.0             3.0       1.0  ...   \n",
       "3                  0.677350       10.0             3.0       1.0  ...   \n",
       "4                  0.830357        3.0             2.0       1.0  ...   \n",
       "\n",
       "   min_positive_polarity  max_positive_polarity  avg_negative_polarity  \\\n",
       "0               0.200000                   0.80              -0.487500   \n",
       "1               0.160000                   0.50              -0.135340   \n",
       "2               0.136364                   1.00               0.000000   \n",
       "3               0.100000                   1.00              -0.195701   \n",
       "4               0.100000                   0.55              -0.175000   \n",
       "\n",
       "   min_negative_polarity  max_negative_polarity  title_subjectivity  \\\n",
       "0                  -0.60              -0.250000                 0.9   \n",
       "1                  -0.40              -0.050000                 0.1   \n",
       "2                   0.00               0.000000                 0.3   \n",
       "3                  -0.40              -0.071429                 0.0   \n",
       "4                  -0.25              -0.100000                 0.0   \n",
       "\n",
       "   title_sentiment_polarity  abs_title_subjectivity  \\\n",
       "0                       0.8                     0.4   \n",
       "1                      -0.1                     0.4   \n",
       "2                       1.0                     0.2   \n",
       "3                       0.0                     0.5   \n",
       "4                       0.0                     0.5   \n",
       "\n",
       "   abs_title_sentiment_polarity  Popular  \n",
       "0                           0.8        1  \n",
       "1                           0.1        0  \n",
       "2                           1.0        0  \n",
       "3                           0.0        0  \n",
       "4                           0.0        0  \n",
       "\n",
       "[5 rows x 61 columns]"
      ]
     },
     "execution_count": 75,
     "metadata": {},
     "output_type": "execute_result"
    }
   ],
   "source": [
    "# Lectura de la información de archivo .csv\n",
    "df = pd.read_csv('https://raw.githubusercontent.com/davidzarruk/MIAD_ML_NLP_2023/main/datasets/mashable.csv', index_col=0)\n",
    "df.head()"
   ]
  },
  {
   "cell_type": "code",
   "execution_count": 76,
   "metadata": {},
   "outputs": [
    {
     "data": {
      "text/plain": [
       "0.5"
      ]
     },
     "execution_count": 76,
     "metadata": {},
     "output_type": "execute_result"
    }
   ],
   "source": [
    "# Definición variable de interes y variables predictoras\n",
    "X = df.drop(['url', 'Popular'], axis=1)\n",
    "y = df['Popular']\n",
    "y.mean()"
   ]
  },
  {
   "cell_type": "code",
   "execution_count": 77,
   "metadata": {},
   "outputs": [],
   "source": [
    "# División de la muestra en set de entrenamiento y prueba\n",
    "from sklearn.model_selection import train_test_split\n",
    "X_train, X_test, y_train, y_test = train_test_split(X, y, random_state=1)"
   ]
  },
  {
   "cell_type": "markdown",
   "metadata": {
    "tags": []
   },
   "source": [
    "### Punto 6 - Árbol de decisión y regresión logística\n",
    "En la celda 6 construya un árbol de decisión y una regresión logística. Para el árbol calibre al menos un parámetro y evalúe el desempeño de cada modelo usando las métricas de Accuracy y F1-Score."
   ]
  },
  {
   "cell_type": "code",
   "execution_count": 79,
   "metadata": {},
   "outputs": [
    {
     "data": {
      "text/plain": [
       "(0.6353333333333333, 2)"
      ]
     },
     "execution_count": 79,
     "metadata": {},
     "output_type": "execute_result"
    },
    {
     "data": {
      "image/png": "[encoded data removed]",
      "text/plain": [
       "<Figure size 432x288 with 1 Axes>"
      ]
     },
     "metadata": {
      "needs_background": "light"
     },
     "output_type": "display_data"
    }
   ],
   "source": [
    "# Celda 6\n",
    "\n",
    "max_depth_range = range(1, 21)\n",
    "accuracy_scores = []\n",
    "\n",
    "for depth in max_depth_range:\n",
    "    clf = DecisionTreeClassifier(max_depth=depth, random_state=1)\n",
    "    accuracy_scores.append(cross_val_score(clf, X, y, cv=10, scoring='accuracy').mean())\n",
    "\n",
    "plt.plot(max_depth_range, accuracy_scores)\n",
    "plt.xlabel('max_depth')\n",
    "plt.ylabel('Accuracy')\n",
    "\n",
    "# Mejor accuracy (desempeño del modelo) y su correspondiente max_depth\n",
    "sorted(zip(accuracy_scores, max_depth_range))[::-1][0]"
   ]
  },
  {
   "cell_type": "code",
   "execution_count": 81,
   "metadata": {},
   "outputs": [
    {
     "name": "stdout",
     "output_type": "stream",
     "text": [
      "Accuracy: 0.6453333333333333\n",
      "F1-Score: 0.6453289196958572\n"
     ]
    }
   ],
   "source": [
    "from sklearn.metrics import accuracy_score, f1_score\n",
    "\n",
    "clf = DecisionTreeClassifier(max_depth=2, random_state=1)\n",
    "clf.fit(X_train, y_train)\n",
    "y_pred = clf.predict(X_test)\n",
    "\n",
    "acc = accuracy_score(y_test, y_pred)\n",
    "f1 = f1_score(y_test, y_pred, average='weighted')\n",
    "\n",
    "print(\"Accuracy:\", acc)\n",
    "print(\"F1-Score:\", f1)"
   ]
  },
  {
   "cell_type": "code",
   "execution_count": 84,
   "metadata": {},
   "outputs": [
    {
     "name": "stdout",
     "output_type": "stream",
     "text": [
      "Accuracy: 0.614\n",
      "F1-Score: 0.6139565941101721\n"
     ]
    }
   ],
   "source": [
    "from sklearn.linear_model import LogisticRegression\n",
    "\n",
    "lr = LogisticRegression(random_state=1)\n",
    "lr.fit(X_train, y_train)\n",
    "y_pred = lr.predict(X_test)\n",
    "\n",
    "acc = accuracy_score(y_test, y_pred)\n",
    "f1 = f1_score(y_test, y_pred, average='weighted')\n",
    "\n",
    "print(\"Accuracy:\", acc)\n",
    "print(\"F1-Score:\", f1)"
   ]
  },
  {
   "cell_type": "markdown",
   "metadata": {},
   "source": [
    "Después de construir un árbol de decisión y calibrarlo a través de la profundidad, se obtiene un modelo con una Accuracy y F1-Score de 0.645 y 0.645 respectivamente, es decir, el modelo está acertando correctamente alrededor del 64% de las veces. En otras palabras, aproximadamente 6 de cada 10 predicciones son correctas. Por su parte, también se entrenó un modelo de regresión logística, con el cual se obtuvo una Accuracy y F1-Score de 0.614 y 0.613 respectivamente. De forma que se puede concluir que un modelo de árbol de decisión tiene mayor capacidad de predicción para este set de datos."
   ]
  },
  {
   "cell_type": "markdown",
   "metadata": {
    "tags": []
   },
   "source": [
    "### Punto 7 - Votación Mayoritaria\n",
    "En la celda 7 elabore un esamble con la metodología de **Votación mayoritaria** compuesto por 300 muestras bagged para cada uno de los siguientes escenarios:\n",
    "\n",
    "-100 árboles de decisión donde max_depth tome un valor de su elección\\\n",
    "-100 árboles de decisión donde min_samples_leaf tome un valor de su elección\\\n",
    "-100 regresiones logísticas\n",
    "\n",
    "Evalúe cada uno de los tres modelos de manera independiente utilizando las métricas de Accuracy y F1-Score, luego evalúe el ensamble de modelos y compare los resultados. "
   ]
  },
  {
   "cell_type": "code",
   "execution_count": 96,
   "metadata": {},
   "outputs": [
    {
     "name": "stdout",
     "output_type": "stream",
     "text": [
      "Modelo 1 Accuracy:  0.6446666666666667\n",
      "Modelo 1 F1-Score:  0.6376614547926581\n",
      "Modelo 2 Accuracy:  0.6553333333333333\n",
      "Modelo 2 F1-Score:  0.6582947785855915\n",
      "Modelo 3 Accuracy:  0.618\n",
      "Modelo 3 F1-Score:  0.6136210384356034\n",
      "Ensamble Accuracy:  0.6446666666666667\n",
      "Ensamble F1-Score:  0.6396213657876945\n"
     ]
    }
   ],
   "source": [
    "# Modelo 1: 100 Decision Trees with max_depth\n",
    "modelo1 = BaggingClassifier(base_estimator=DecisionTreeClassifier(max_depth=3), n_estimators=100, bootstrap=True, random_state=42, n_jobs=-1, oob_score=True)\n",
    "\n",
    "# Modelo 2: 100 Decision Trees with min_samples_leaf\n",
    "modelo2 = BaggingClassifier(base_estimator=DecisionTreeClassifier(min_samples_leaf=5), n_estimators=100, bootstrap=True, random_state=42, n_jobs=-1, oob_score=True)\n",
    "\n",
    "# Modelo 3: 100 Logistic Regressions\n",
    "modelo3 = BaggingClassifier(base_estimator=LogisticRegression(), n_estimators=100, bootstrap=True, random_state=42, n_jobs=-1, oob_score=True)\n",
    "\n",
    "# Entrenar y evaluar Modelo 1\n",
    "modelo1.fit(X_train, y_train)\n",
    "y_pred1 = modelo1.predict(X_test)\n",
    "acc1 = accuracy_score(y_test, y_pred1)\n",
    "f1_1 = f1_score(y_test, y_pred1)\n",
    "\n",
    "# Entrenar y evaluar Modelo 2\n",
    "modelo2.fit(X_train, y_train)\n",
    "y_pred2 = modelo2.predict(X_test)\n",
    "acc2 = accuracy_score(y_test, y_pred2)\n",
    "f1_2 = f1_score(y_test, y_pred2)\n",
    "\n",
    "# Entrenar y evaluar Modelo 3\n",
    "modelo3.fit(X_train, y_train)\n",
    "y_pred3 = modelo3.predict(X_test)\n",
    "acc3 = accuracy_score(y_test, y_pred3)\n",
    "f1_3 = f1_score(y_test, y_pred3)\n",
    "\n",
    "# Imprimir resultados modelos individuales\n",
    "print(\"Modelo 1 Accuracy: \", acc1)\n",
    "print(\"Modelo 1 F1-Score: \", f1_1)\n",
    "print(\"Modelo 2 Accuracy: \", acc2)\n",
    "print(\"Modelo 2 F1-Score: \", f1_2)\n",
    "print(\"Modelo 3 Accuracy: \", acc3)\n",
    "print(\"Modelo 3 F1-Score: \", f1_3)\n",
    "\n",
    "# crear ensamble\n",
    "ensamble = VotingClassifier(estimators=[('dt_max', modelo1), \n",
    "                                        ('dt_min', modelo2), \n",
    "                                        ('logreg', modelo3)],\n",
    "                             voting='hard')\n",
    "\n",
    "# Entrenar y evaluar ensamble\n",
    "ensamble.fit(X_train, y_train)\n",
    "y_pred_ensamble = ensamble.predict(X_test)\n",
    "acc_ensamble = accuracy_score(y_test, y_pred_ensamble)\n",
    "f1_ensamble = f1_score(y_test, y_pred_ensamble)\n",
    "\n",
    "# Imprimier resultado ensamble\n",
    "print(\"Ensamble Accuracy: \", acc_ensamble)\n",
    "print(\"Ensamble F1-Score: \", f1_ensamble)\n"
   ]
  },
  {
   "cell_type": "markdown",
   "metadata": {},
   "source": [
    "Después de entrenar cada uno de los tres escenarios propuestos y evaluar cada uno por separado mediante el porcentaje de accuracy y F1, se observa que el escenario de 100 árboles de decisión donde min_samples_leaf es 5, presenta el mejor desempeño con 0.65 de accruacy y F1. Una vez se construye el ensamblaje considerando los modelos de los 3 escenarios mediante votacion mayoritaria, se obtiene un desempeño un poco inferior al modelo anteriormente mencionado, su accruacy y F1 son cercanos a 0.64."
   ]
  },
  {
   "cell_type": "markdown",
   "metadata": {
    "tags": []
   },
   "source": [
    "### Punto 8 - Votación Ponderada\n",
    "En la celda 8 elabore un ensamble con la metodología de **Votación ponderada** compuesto por 300 muestras bagged para los mismos tres escenarios del punto 7. Evalúe los modelos utilizando las métricas de Accuracy y F1-Score"
   ]
  },
  {
   "cell_type": "code",
   "execution_count": 99,
   "metadata": {},
   "outputs": [
    {
     "name": "stdout",
     "output_type": "stream",
     "text": [
      "Modelo 1 Accuracy:  0.6446666666666667\n",
      "Modelo 1 F1-Score:  0.6376614547926581\n",
      "Modelo 2 Accuracy:  0.6553333333333333\n",
      "Modelo 2 F1-Score:  0.6582947785855915\n",
      "Modelo 3 Accuracy:  0.618\n",
      "Modelo 3 F1-Score:  0.6136210384356034\n",
      "Ensamble Accuracy:  0.6546666666666666\n",
      "Ensamble F1-Score:  0.6542056074766356\n"
     ]
    }
   ],
   "source": [
    "# Modelo 1: 100 Decision Trees with max_depth\n",
    "modelo1 = BaggingClassifier(base_estimator=DecisionTreeClassifier(max_depth=3), n_estimators=100, bootstrap=True, random_state=42, n_jobs=-1, oob_score=True)\n",
    "\n",
    "# Modelo 2: 100 Decision Trees with min_samples_leaf\n",
    "modelo2 = BaggingClassifier(base_estimator=DecisionTreeClassifier(min_samples_leaf=5), n_estimators=100, bootstrap=True, random_state=42, n_jobs=-1, oob_score=True)\n",
    "\n",
    "# Modelo 3: 100 Logistic Regressions\n",
    "modelo3 = BaggingClassifier(base_estimator=LogisticRegression(), n_estimators=100, bootstrap=True, random_state=42, n_jobs=-1, oob_score=True)\n",
    "\n",
    "# Entrenar y evaluar Modelo 1\n",
    "modelo1.fit(X_train, y_train)\n",
    "y_pred1 = modelo1.predict(X_test)\n",
    "acc1 = accuracy_score(y_test, y_pred1)\n",
    "f1_1 = f1_score(y_test, y_pred1)\n",
    "\n",
    "# Entrenar y evaluar Modelo 2\n",
    "modelo2.fit(X_train, y_train)\n",
    "y_pred2 = modelo2.predict(X_test)\n",
    "acc2 = accuracy_score(y_test, y_pred2)\n",
    "f1_2 = f1_score(y_test, y_pred2)\n",
    "\n",
    "# Entrenar y evaluar Modelo 3\n",
    "modelo3.fit(X_train, y_train)\n",
    "y_pred3 = modelo3.predict(X_test)\n",
    "acc3 = accuracy_score(y_test, y_pred3)\n",
    "f1_3 = f1_score(y_test, y_pred3)\n",
    "\n",
    "# Imprimir resultados modelos individuales\n",
    "print(\"Modelo 1 Accuracy: \", acc1)\n",
    "print(\"Modelo 1 F1-Score: \", f1_1)\n",
    "print(\"Modelo 2 Accuracy: \", acc2)\n",
    "print(\"Modelo 2 F1-Score: \", f1_2)\n",
    "print(\"Modelo 3 Accuracy: \", acc3)\n",
    "print(\"Modelo 3 F1-Score: \", f1_3)\n",
    "\n",
    "# Calcular los pesos de cada modelo de acuerdo al error OOB\n",
    "weights = [modelo1.oob_score_, modelo2.oob_score_, modelo3.oob_score_]\n",
    "total_weight = np.sum(weights)\n",
    "weights = [w / total_weight for w in weights]\n",
    "\n",
    "# crear ensamble\n",
    "ensamble = VotingClassifier(estimators=[('dt_max', modelo1), \n",
    "                                        ('dt_min', modelo2), \n",
    "                                        ('logreg', modelo3)],\n",
    "                             voting='soft', weights=weights)\n",
    "\n",
    "# Entrenar y evaluar ensamble\n",
    "ensamble.fit(X_train, y_train)\n",
    "y_pred_ensamble = ensamble.predict(X_test)\n",
    "acc_ensamble = accuracy_score(y_test, y_pred_ensamble)\n",
    "f1_ensamble = f1_score(y_test, y_pred_ensamble)\n",
    "\n",
    "# Imprimier resultado ensamble\n",
    "print(\"Ensamble Accuracy: \", acc_ensamble)\n",
    "print(\"Ensamble F1-Score: \", f1_ensamble)"
   ]
  },
  {
   "cell_type": "markdown",
   "metadata": {},
   "source": [
    "Después de entrenar cada uno de los tres escenarios propuestos y evaluar cada uno por separado mediante el porcentaje de accuracy y F1, se observa nuevamente que el escenario de 100 árboles de decisión donde min_samples_leaf es 5, presenta el mejor desempeño con 0.65 de accruacy y F1. Una vez se construye el ensamblaje mediante votacion poderada asignando el peso de cada modelo con base en error OOB (out of bag), se obtiene un desempeño del mismo nivel que el modelo 2 ajustado individualmente."
   ]
  },
  {
   "cell_type": "markdown",
   "metadata": {},
   "source": [
    "### Punto 9 - Comparación y análisis de resultados\n",
    "En la celda 9 comente sobre los resultados obtenidos con las metodologías usadas en los puntos 7 y 8, compare los resultados y enuncie posibles ventajas o desventajas de cada una de ellas."
   ]
  },
  {
   "cell_type": "markdown",
   "metadata": {},
   "source": [
    "Al comparar los resultados obtenidos de la metodología de voto mayoritario y voto ponderado para el caso del conjunto de datos de Popularidad de Noticias Online, se evidencia el modelo bagging de 100 árboles de decisión, donde 5 es el número mínimo de muestras que se deben tener en una hoja, entrenado individualmente tiene mejor desempeño de los otros dos escenarios, incluso que el ensamblaje de este con los demás propuestos. Así mismo, se observa que el modelo de regresión logística presenta el desempeño más bajo.\n",
    "\n",
    "Sin embargo, al comparar los resultados de los dos ensamblajes (voto mayoritario y voto ponderado), se observa que el ensamblaje por voto ponderado tiene mejor desempeño. De forma que hay que tener en cuenta que la votación ponderada tiene como ventaja que considera la calidad de los modelos individuales al asignar pesos a cada uno, lo que permite que los modelos más precisos tengan una mayor influencia en la predicción final. Sin embargo, requiere más tiempo de entrenamiento y es más complejo de implementar que la votación mayoritaria. Por su parte, la votación mayoritaria es más fácil de implementar y no requiere mucho tiempo de entrenamiento, pero asume que cada modelo tiene el mismo nivel de competencia, lo cual es impreciso."
   ]
  }
 ],
 "metadata": {
  "kernelspec": {
   "display_name": "Python 3 (ipykernel)",
   "language": "python",
   "name": "python3"
  },
  "language_info": {
   "codemirror_mode": {
    "name": "ipython",
    "version": 3
   },
   "file_extension": ".py",
   "mimetype": "text/x-python",
   "name": "python",
   "nbconvert_exporter": "python",
   "pygments_lexer": "ipython3",
   "version": "3.9.12"
  }
 },
 "nbformat": 4,
 "nbformat_minor": 4
}

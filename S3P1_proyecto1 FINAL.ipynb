{
 "cells": [
  {
   "cell_type": "markdown",
   "metadata": {},
   "source": [
    "![image info](https://raw.githubusercontent.com/davidzarruk/MIAD_ML_NLP_2023/main/images/banner_1.png)"
   ]
  },
  {
   "cell_type": "markdown",
   "metadata": {},
   "source": [
    "# Proyecto 1 - Predicción de precios de vehículos usados\n",
    "\n",
    "En este proyecto podrán poner en práctica sus conocimientos sobre modelos predictivos basados en árboles y ensambles, y sobre la disponibilización de modelos. Para su desasrrollo tengan en cuenta las instrucciones dadas en la \"Guía del proyecto 1: Predicción de precios de vehículos usados\".\n",
    "\n",
    "**Entrega**: La entrega del proyecto deberán realizarla durante la semana 4. Sin embargo, es importante que avancen en la semana 3 en el modelado del problema y en parte del informe, tal y como se les indicó en la guía.\n",
    "\n",
    "Para hacer la entrega, deberán adjuntar el informe autocontenido en PDF a la actividad de entrega del proyecto que encontrarán en la semana 4, y subir el archivo de predicciones a la [competencia de Kaggle](https://www.kaggle.com/t/b8be43cf89c540bfaf3831f2c8506614)."
   ]
  },
  {
   "cell_type": "markdown",
   "metadata": {},
   "source": [
    "## Datos para la predicción de precios de vehículos usados\n",
    "\n",
    "En este proyecto se usará el conjunto de datos de Car Listings de Kaggle, donde cada observación representa el precio de un automóvil teniendo en cuenta distintas variables como: año, marca, modelo, entre otras. El objetivo es predecir el precio del automóvil. Para más detalles puede visitar el siguiente enlace: [datos](https://www.kaggle.com/jpayne/852k-used-car-listings)."
   ]
  },
  {
   "cell_type": "code",
   "execution_count": 1,
   "metadata": {},
   "outputs": [],
   "source": [
    "import warnings\n",
    "warnings.filterwarnings('ignore')"
   ]
  },
  {
   "cell_type": "code",
   "execution_count": 9,
   "metadata": {},
   "outputs": [],
   "source": [
    "# Importación librerías\n",
    "import pandas as pd\n",
    "import numpy as np"
   ]
  },
  {
   "cell_type": "code",
   "execution_count": 10,
   "metadata": {},
   "outputs": [],
   "source": [
    "from sklearn.tree import DecisionTreeClassifier\n",
    "from sklearn import metrics\n",
    "from xgboost import XGBRegressor\n",
    "import matplotlib.pyplot as plt\n",
    "from sklearn.metrics import mean_absolute_error\n",
    "from sklearn.metrics import mean_squared_error\n",
    "from sklearn.metrics import r2_score\n",
    "from sklearn.metrics import mean_absolute_percentage_error\n",
    "import numpy as np\n",
    "from sklearn.model_selection import GridSearchCV\n",
    "import matplotlib.pyplot as plt\n",
    "from math import sqrt"
   ]
  },
  {
   "cell_type": "markdown",
   "metadata": {
    "tags": []
   },
   "source": [
    "## Preprocesamiento de datos"
   ]
  },
  {
   "cell_type": "code",
   "execution_count": 3,
   "metadata": {},
   "outputs": [],
   "source": [
    "# Carga de datos de archivo .csv\n",
    "dataTraining = pd.read_csv('https://raw.githubusercontent.com/davidzarruk/MIAD_ML_NLP_2023/main/datasets/dataTrain_carListings.zip')\n",
    "dataTesting = pd.read_csv('https://raw.githubusercontent.com/davidzarruk/MIAD_ML_NLP_2023/main/datasets/dataTest_carListings.zip', index_col=0)"
   ]
  },
  {
   "cell_type": "code",
   "execution_count": 82,
   "metadata": {},
   "outputs": [
    {
     "data": {
      "text/html": [
       "<div>\n",
       "<style scoped>\n",
       "    .dataframe tbody tr th:only-of-type {\n",
       "        vertical-align: middle;\n",
       "    }\n",
       "\n",
       "    .dataframe tbody tr th {\n",
       "        vertical-align: top;\n",
       "    }\n",
       "\n",
       "    .dataframe thead th {\n",
       "        text-align: right;\n",
       "    }\n",
       "</style>\n",
       "<table border=\"1\" class=\"dataframe\">\n",
       "  <thead>\n",
       "    <tr style=\"text-align: right;\">\n",
       "      <th></th>\n",
       "      <th>Price</th>\n",
       "      <th>Year</th>\n",
       "      <th>Mileage</th>\n",
       "      <th>State</th>\n",
       "      <th>Make</th>\n",
       "      <th>Model</th>\n",
       "    </tr>\n",
       "  </thead>\n",
       "  <tbody>\n",
       "    <tr>\n",
       "      <th>0</th>\n",
       "      <td>34995</td>\n",
       "      <td>2017</td>\n",
       "      <td>9913</td>\n",
       "      <td>FL</td>\n",
       "      <td>Jeep</td>\n",
       "      <td>Wrangler</td>\n",
       "    </tr>\n",
       "    <tr>\n",
       "      <th>1</th>\n",
       "      <td>37895</td>\n",
       "      <td>2015</td>\n",
       "      <td>20578</td>\n",
       "      <td>OH</td>\n",
       "      <td>Chevrolet</td>\n",
       "      <td>Tahoe4WD</td>\n",
       "    </tr>\n",
       "    <tr>\n",
       "      <th>2</th>\n",
       "      <td>18430</td>\n",
       "      <td>2012</td>\n",
       "      <td>83716</td>\n",
       "      <td>TX</td>\n",
       "      <td>BMW</td>\n",
       "      <td>X5AWD</td>\n",
       "    </tr>\n",
       "    <tr>\n",
       "      <th>3</th>\n",
       "      <td>24681</td>\n",
       "      <td>2014</td>\n",
       "      <td>28729</td>\n",
       "      <td>OH</td>\n",
       "      <td>Cadillac</td>\n",
       "      <td>SRXLuxury</td>\n",
       "    </tr>\n",
       "    <tr>\n",
       "      <th>4</th>\n",
       "      <td>26998</td>\n",
       "      <td>2013</td>\n",
       "      <td>64032</td>\n",
       "      <td>CO</td>\n",
       "      <td>Jeep</td>\n",
       "      <td>Wrangler</td>\n",
       "    </tr>\n",
       "  </tbody>\n",
       "</table>\n",
       "</div>"
      ],
      "text/plain": [
       "   Price  Year  Mileage State       Make      Model\n",
       "0  34995  2017     9913    FL       Jeep   Wrangler\n",
       "1  37895  2015    20578    OH  Chevrolet   Tahoe4WD\n",
       "2  18430  2012    83716    TX        BMW      X5AWD\n",
       "3  24681  2014    28729    OH   Cadillac  SRXLuxury\n",
       "4  26998  2013    64032    CO       Jeep   Wrangler"
      ]
     },
     "execution_count": 82,
     "metadata": {},
     "output_type": "execute_result"
    }
   ],
   "source": [
    "# Visualización datos de entrenamiento\n",
    "dataTraining.head()"
   ]
  },
  {
   "cell_type": "code",
   "execution_count": 83,
   "metadata": {},
   "outputs": [
    {
     "data": {
      "text/html": [
       "<div>\n",
       "<style scoped>\n",
       "    .dataframe tbody tr th:only-of-type {\n",
       "        vertical-align: middle;\n",
       "    }\n",
       "\n",
       "    .dataframe tbody tr th {\n",
       "        vertical-align: top;\n",
       "    }\n",
       "\n",
       "    .dataframe thead th {\n",
       "        text-align: right;\n",
       "    }\n",
       "</style>\n",
       "<table border=\"1\" class=\"dataframe\">\n",
       "  <thead>\n",
       "    <tr style=\"text-align: right;\">\n",
       "      <th></th>\n",
       "      <th>Year</th>\n",
       "      <th>Mileage</th>\n",
       "      <th>State</th>\n",
       "      <th>Make</th>\n",
       "      <th>Model</th>\n",
       "    </tr>\n",
       "    <tr>\n",
       "      <th>ID</th>\n",
       "      <th></th>\n",
       "      <th></th>\n",
       "      <th></th>\n",
       "      <th></th>\n",
       "      <th></th>\n",
       "    </tr>\n",
       "  </thead>\n",
       "  <tbody>\n",
       "    <tr>\n",
       "      <th>0</th>\n",
       "      <td>2014</td>\n",
       "      <td>31909</td>\n",
       "      <td>MD</td>\n",
       "      <td>Nissan</td>\n",
       "      <td>MuranoAWD</td>\n",
       "    </tr>\n",
       "    <tr>\n",
       "      <th>1</th>\n",
       "      <td>2017</td>\n",
       "      <td>5362</td>\n",
       "      <td>FL</td>\n",
       "      <td>Jeep</td>\n",
       "      <td>Wrangler</td>\n",
       "    </tr>\n",
       "    <tr>\n",
       "      <th>2</th>\n",
       "      <td>2014</td>\n",
       "      <td>50300</td>\n",
       "      <td>OH</td>\n",
       "      <td>Ford</td>\n",
       "      <td>FlexLimited</td>\n",
       "    </tr>\n",
       "    <tr>\n",
       "      <th>3</th>\n",
       "      <td>2004</td>\n",
       "      <td>132160</td>\n",
       "      <td>WA</td>\n",
       "      <td>BMW</td>\n",
       "      <td>5</td>\n",
       "    </tr>\n",
       "    <tr>\n",
       "      <th>4</th>\n",
       "      <td>2015</td>\n",
       "      <td>25226</td>\n",
       "      <td>MA</td>\n",
       "      <td>Jeep</td>\n",
       "      <td>Grand</td>\n",
       "    </tr>\n",
       "  </tbody>\n",
       "</table>\n",
       "</div>"
      ],
      "text/plain": [
       "    Year  Mileage State    Make        Model\n",
       "ID                                          \n",
       "0   2014    31909    MD  Nissan    MuranoAWD\n",
       "1   2017     5362    FL    Jeep     Wrangler\n",
       "2   2014    50300    OH    Ford  FlexLimited\n",
       "3   2004   132160    WA     BMW            5\n",
       "4   2015    25226    MA    Jeep        Grand"
      ]
     },
     "execution_count": 83,
     "metadata": {},
     "output_type": "execute_result"
    }
   ],
   "source": [
    "# Visualización datos de test\n",
    "dataTesting.head()"
   ]
  },
  {
   "cell_type": "code",
   "execution_count": 78,
   "metadata": {},
   "outputs": [],
   "source": [
    "# Predicción del conjunto de test - acá se genera un número aleatorio como ejemplo\n",
    "np.random.seed(42)\n",
    "y_pred = pd.DataFrame(np.random.rand(dataTesting.shape[0]) * 75000 + 5000, index=dataTesting.index, columns=['Price'])"
   ]
  },
  {
   "cell_type": "code",
   "execution_count": 108,
   "metadata": {},
   "outputs": [
    {
     "data": {
      "text/html": [
       "<div>\n",
       "<style scoped>\n",
       "    .dataframe tbody tr th:only-of-type {\n",
       "        vertical-align: middle;\n",
       "    }\n",
       "\n",
       "    .dataframe tbody tr th {\n",
       "        vertical-align: top;\n",
       "    }\n",
       "\n",
       "    .dataframe thead th {\n",
       "        text-align: right;\n",
       "    }\n",
       "</style>\n",
       "<table border=\"1\" class=\"dataframe\">\n",
       "  <thead>\n",
       "    <tr style=\"text-align: right;\">\n",
       "      <th></th>\n",
       "      <th>Price</th>\n",
       "    </tr>\n",
       "    <tr>\n",
       "      <th>ID</th>\n",
       "      <th></th>\n",
       "    </tr>\n",
       "  </thead>\n",
       "  <tbody>\n",
       "    <tr>\n",
       "      <th>0</th>\n",
       "      <td>33090.508914</td>\n",
       "    </tr>\n",
       "    <tr>\n",
       "      <th>1</th>\n",
       "      <td>76303.572981</td>\n",
       "    </tr>\n",
       "    <tr>\n",
       "      <th>2</th>\n",
       "      <td>59899.545636</td>\n",
       "    </tr>\n",
       "    <tr>\n",
       "      <th>3</th>\n",
       "      <td>49899.386315</td>\n",
       "    </tr>\n",
       "    <tr>\n",
       "      <th>4</th>\n",
       "      <td>16701.398033</td>\n",
       "    </tr>\n",
       "  </tbody>\n",
       "</table>\n",
       "</div>"
      ],
      "text/plain": [
       "           Price\n",
       "ID              \n",
       "0   33090.508914\n",
       "1   76303.572981\n",
       "2   59899.545636\n",
       "3   49899.386315\n",
       "4   16701.398033"
      ]
     },
     "execution_count": 108,
     "metadata": {},
     "output_type": "execute_result"
    }
   ],
   "source": [
    "# Guardar predicciones en formato exigido en la competencia de kaggle\n",
    "y_pred.to_csv('test_submission.csv', index_label='ID')\n",
    "y_pred.head()"
   ]
  },
  {
   "cell_type": "code",
   "execution_count": 35,
   "metadata": {},
   "outputs": [],
   "source": [
    "# Eliminación filas con observaciones nulas\n",
    "dataTraining = dataTraining.dropna()"
   ]
  },
  {
   "cell_type": "code",
   "execution_count": 36,
   "metadata": {},
   "outputs": [
    {
     "name": "stdout",
     "output_type": "stream",
     "text": [
      "Numero de regitros:  400000\n",
      "Numero de Variables:  6\n",
      "Numero de datos faltantes por Variable:\n"
     ]
    },
    {
     "data": {
      "text/plain": [
       "Price      0\n",
       "Year       0\n",
       "Mileage    0\n",
       "State      0\n",
       "Make       0\n",
       "Model      0\n",
       "dtype: int64"
      ]
     },
     "execution_count": 36,
     "metadata": {},
     "output_type": "execute_result"
    }
   ],
   "source": [
    "print('Numero de regitros:  '+str(len(dataTraining)))\n",
    "print('Numero de Variables:  '+str(dataTraining.shape[1] ))\n",
    "#Numero de datos faltantes\n",
    "print('Numero de datos faltantes por Variable:')\n",
    "dataTraining.isnull().sum()"
   ]
  },
  {
   "cell_type": "code",
   "execution_count": 37,
   "metadata": {},
   "outputs": [
    {
     "name": "stdout",
     "output_type": "stream",
     "text": [
      "Numero de regitros:  100000\n",
      "Numero de Variables:  5\n",
      "Numero de datos faltantes por Variable:\n"
     ]
    },
    {
     "data": {
      "text/plain": [
       "Year       0\n",
       "Mileage    0\n",
       "State      0\n",
       "Make       0\n",
       "Model      0\n",
       "dtype: int64"
      ]
     },
     "execution_count": 37,
     "metadata": {},
     "output_type": "execute_result"
    }
   ],
   "source": [
    "print('Numero de regitros:  '+str(len(dataTesting)))\n",
    "print('Numero de Variables:  '+str(dataTesting.shape[1] ))\n",
    "#Numero de datos faltantes\n",
    "print('Numero de datos faltantes por Variable:')\n",
    "dataTesting.isnull().sum()"
   ]
  },
  {
   "cell_type": "code",
   "execution_count": 4,
   "metadata": {},
   "outputs": [],
   "source": [
    "dataTraining = pd.get_dummies(dataTraining, columns=['State'])\n",
    "dataTraining = pd.get_dummies(dataTraining, columns=['Make'])\n",
    "dataTraining = pd.get_dummies(dataTraining, columns=['Model'])"
   ]
  },
  {
   "cell_type": "code",
   "execution_count": 43,
   "metadata": {},
   "outputs": [
    {
     "data": {
      "text/html": [
       "<div>\n",
       "<style scoped>\n",
       "    .dataframe tbody tr th:only-of-type {\n",
       "        vertical-align: middle;\n",
       "    }\n",
       "\n",
       "    .dataframe tbody tr th {\n",
       "        vertical-align: top;\n",
       "    }\n",
       "\n",
       "    .dataframe thead th {\n",
       "        text-align: right;\n",
       "    }\n",
       "</style>\n",
       "<table border=\"1\" class=\"dataframe\">\n",
       "  <thead>\n",
       "    <tr style=\"text-align: right;\">\n",
       "      <th></th>\n",
       "      <th>Price</th>\n",
       "      <th>Year</th>\n",
       "      <th>Mileage</th>\n",
       "      <th>State_ AK</th>\n",
       "      <th>State_ AL</th>\n",
       "      <th>State_ AR</th>\n",
       "      <th>State_ AZ</th>\n",
       "      <th>State_ CA</th>\n",
       "      <th>State_ CO</th>\n",
       "      <th>State_ CT</th>\n",
       "      <th>...</th>\n",
       "      <th>Model_Yaris4dr</th>\n",
       "      <th>Model_YarisBase</th>\n",
       "      <th>Model_YarisLE</th>\n",
       "      <th>Model_Yukon</th>\n",
       "      <th>Model_Yukon2WD</th>\n",
       "      <th>Model_Yukon4WD</th>\n",
       "      <th>Model_Yukon4dr</th>\n",
       "      <th>Model_tC2dr</th>\n",
       "      <th>Model_xB5dr</th>\n",
       "      <th>Model_xD5dr</th>\n",
       "    </tr>\n",
       "  </thead>\n",
       "  <tbody>\n",
       "    <tr>\n",
       "      <th>0</th>\n",
       "      <td>34995</td>\n",
       "      <td>2017</td>\n",
       "      <td>9913</td>\n",
       "      <td>0</td>\n",
       "      <td>0</td>\n",
       "      <td>0</td>\n",
       "      <td>0</td>\n",
       "      <td>0</td>\n",
       "      <td>0</td>\n",
       "      <td>0</td>\n",
       "      <td>...</td>\n",
       "      <td>0</td>\n",
       "      <td>0</td>\n",
       "      <td>0</td>\n",
       "      <td>0</td>\n",
       "      <td>0</td>\n",
       "      <td>0</td>\n",
       "      <td>0</td>\n",
       "      <td>0</td>\n",
       "      <td>0</td>\n",
       "      <td>0</td>\n",
       "    </tr>\n",
       "    <tr>\n",
       "      <th>1</th>\n",
       "      <td>37895</td>\n",
       "      <td>2015</td>\n",
       "      <td>20578</td>\n",
       "      <td>0</td>\n",
       "      <td>0</td>\n",
       "      <td>0</td>\n",
       "      <td>0</td>\n",
       "      <td>0</td>\n",
       "      <td>0</td>\n",
       "      <td>0</td>\n",
       "      <td>...</td>\n",
       "      <td>0</td>\n",
       "      <td>0</td>\n",
       "      <td>0</td>\n",
       "      <td>0</td>\n",
       "      <td>0</td>\n",
       "      <td>0</td>\n",
       "      <td>0</td>\n",
       "      <td>0</td>\n",
       "      <td>0</td>\n",
       "      <td>0</td>\n",
       "    </tr>\n",
       "    <tr>\n",
       "      <th>2</th>\n",
       "      <td>18430</td>\n",
       "      <td>2012</td>\n",
       "      <td>83716</td>\n",
       "      <td>0</td>\n",
       "      <td>0</td>\n",
       "      <td>0</td>\n",
       "      <td>0</td>\n",
       "      <td>0</td>\n",
       "      <td>0</td>\n",
       "      <td>0</td>\n",
       "      <td>...</td>\n",
       "      <td>0</td>\n",
       "      <td>0</td>\n",
       "      <td>0</td>\n",
       "      <td>0</td>\n",
       "      <td>0</td>\n",
       "      <td>0</td>\n",
       "      <td>0</td>\n",
       "      <td>0</td>\n",
       "      <td>0</td>\n",
       "      <td>0</td>\n",
       "    </tr>\n",
       "    <tr>\n",
       "      <th>3</th>\n",
       "      <td>24681</td>\n",
       "      <td>2014</td>\n",
       "      <td>28729</td>\n",
       "      <td>0</td>\n",
       "      <td>0</td>\n",
       "      <td>0</td>\n",
       "      <td>0</td>\n",
       "      <td>0</td>\n",
       "      <td>0</td>\n",
       "      <td>0</td>\n",
       "      <td>...</td>\n",
       "      <td>0</td>\n",
       "      <td>0</td>\n",
       "      <td>0</td>\n",
       "      <td>0</td>\n",
       "      <td>0</td>\n",
       "      <td>0</td>\n",
       "      <td>0</td>\n",
       "      <td>0</td>\n",
       "      <td>0</td>\n",
       "      <td>0</td>\n",
       "    </tr>\n",
       "    <tr>\n",
       "      <th>4</th>\n",
       "      <td>26998</td>\n",
       "      <td>2013</td>\n",
       "      <td>64032</td>\n",
       "      <td>0</td>\n",
       "      <td>0</td>\n",
       "      <td>0</td>\n",
       "      <td>0</td>\n",
       "      <td>0</td>\n",
       "      <td>1</td>\n",
       "      <td>0</td>\n",
       "      <td>...</td>\n",
       "      <td>0</td>\n",
       "      <td>0</td>\n",
       "      <td>0</td>\n",
       "      <td>0</td>\n",
       "      <td>0</td>\n",
       "      <td>0</td>\n",
       "      <td>0</td>\n",
       "      <td>0</td>\n",
       "      <td>0</td>\n",
       "      <td>0</td>\n",
       "    </tr>\n",
       "    <tr>\n",
       "      <th>...</th>\n",
       "      <td>...</td>\n",
       "      <td>...</td>\n",
       "      <td>...</td>\n",
       "      <td>...</td>\n",
       "      <td>...</td>\n",
       "      <td>...</td>\n",
       "      <td>...</td>\n",
       "      <td>...</td>\n",
       "      <td>...</td>\n",
       "      <td>...</td>\n",
       "      <td>...</td>\n",
       "      <td>...</td>\n",
       "      <td>...</td>\n",
       "      <td>...</td>\n",
       "      <td>...</td>\n",
       "      <td>...</td>\n",
       "      <td>...</td>\n",
       "      <td>...</td>\n",
       "      <td>...</td>\n",
       "      <td>...</td>\n",
       "      <td>...</td>\n",
       "    </tr>\n",
       "    <tr>\n",
       "      <th>399995</th>\n",
       "      <td>29900</td>\n",
       "      <td>2015</td>\n",
       "      <td>25287</td>\n",
       "      <td>0</td>\n",
       "      <td>0</td>\n",
       "      <td>0</td>\n",
       "      <td>0</td>\n",
       "      <td>0</td>\n",
       "      <td>0</td>\n",
       "      <td>0</td>\n",
       "      <td>...</td>\n",
       "      <td>0</td>\n",
       "      <td>0</td>\n",
       "      <td>0</td>\n",
       "      <td>0</td>\n",
       "      <td>0</td>\n",
       "      <td>0</td>\n",
       "      <td>0</td>\n",
       "      <td>0</td>\n",
       "      <td>0</td>\n",
       "      <td>0</td>\n",
       "    </tr>\n",
       "    <tr>\n",
       "      <th>399996</th>\n",
       "      <td>17688</td>\n",
       "      <td>2015</td>\n",
       "      <td>17677</td>\n",
       "      <td>0</td>\n",
       "      <td>0</td>\n",
       "      <td>0</td>\n",
       "      <td>0</td>\n",
       "      <td>0</td>\n",
       "      <td>0</td>\n",
       "      <td>0</td>\n",
       "      <td>...</td>\n",
       "      <td>0</td>\n",
       "      <td>0</td>\n",
       "      <td>0</td>\n",
       "      <td>0</td>\n",
       "      <td>0</td>\n",
       "      <td>0</td>\n",
       "      <td>0</td>\n",
       "      <td>0</td>\n",
       "      <td>0</td>\n",
       "      <td>0</td>\n",
       "    </tr>\n",
       "    <tr>\n",
       "      <th>399997</th>\n",
       "      <td>24907</td>\n",
       "      <td>2014</td>\n",
       "      <td>66688</td>\n",
       "      <td>0</td>\n",
       "      <td>0</td>\n",
       "      <td>0</td>\n",
       "      <td>0</td>\n",
       "      <td>0</td>\n",
       "      <td>0</td>\n",
       "      <td>0</td>\n",
       "      <td>...</td>\n",
       "      <td>0</td>\n",
       "      <td>0</td>\n",
       "      <td>0</td>\n",
       "      <td>0</td>\n",
       "      <td>0</td>\n",
       "      <td>0</td>\n",
       "      <td>0</td>\n",
       "      <td>0</td>\n",
       "      <td>0</td>\n",
       "      <td>0</td>\n",
       "    </tr>\n",
       "    <tr>\n",
       "      <th>399998</th>\n",
       "      <td>11498</td>\n",
       "      <td>2014</td>\n",
       "      <td>37872</td>\n",
       "      <td>0</td>\n",
       "      <td>0</td>\n",
       "      <td>0</td>\n",
       "      <td>0</td>\n",
       "      <td>0</td>\n",
       "      <td>0</td>\n",
       "      <td>0</td>\n",
       "      <td>...</td>\n",
       "      <td>0</td>\n",
       "      <td>0</td>\n",
       "      <td>0</td>\n",
       "      <td>0</td>\n",
       "      <td>0</td>\n",
       "      <td>0</td>\n",
       "      <td>0</td>\n",
       "      <td>0</td>\n",
       "      <td>0</td>\n",
       "      <td>0</td>\n",
       "    </tr>\n",
       "    <tr>\n",
       "      <th>399999</th>\n",
       "      <td>16900</td>\n",
       "      <td>2014</td>\n",
       "      <td>78606</td>\n",
       "      <td>0</td>\n",
       "      <td>0</td>\n",
       "      <td>0</td>\n",
       "      <td>0</td>\n",
       "      <td>0</td>\n",
       "      <td>1</td>\n",
       "      <td>0</td>\n",
       "      <td>...</td>\n",
       "      <td>0</td>\n",
       "      <td>0</td>\n",
       "      <td>0</td>\n",
       "      <td>0</td>\n",
       "      <td>0</td>\n",
       "      <td>0</td>\n",
       "      <td>0</td>\n",
       "      <td>0</td>\n",
       "      <td>0</td>\n",
       "      <td>0</td>\n",
       "    </tr>\n",
       "  </tbody>\n",
       "</table>\n",
       "<p>400000 rows × 617 columns</p>\n",
       "</div>"
      ],
      "text/plain": [
       "        Price  Year  Mileage  State_ AK  State_ AL  State_ AR  State_ AZ  \\\n",
       "0       34995  2017     9913          0          0          0          0   \n",
       "1       37895  2015    20578          0          0          0          0   \n",
       "2       18430  2012    83716          0          0          0          0   \n",
       "3       24681  2014    28729          0          0          0          0   \n",
       "4       26998  2013    64032          0          0          0          0   \n",
       "...       ...   ...      ...        ...        ...        ...        ...   \n",
       "399995  29900  2015    25287          0          0          0          0   \n",
       "399996  17688  2015    17677          0          0          0          0   \n",
       "399997  24907  2014    66688          0          0          0          0   \n",
       "399998  11498  2014    37872          0          0          0          0   \n",
       "399999  16900  2014    78606          0          0          0          0   \n",
       "\n",
       "        State_ CA  State_ CO  State_ CT  ...  Model_Yaris4dr  Model_YarisBase  \\\n",
       "0               0          0          0  ...               0                0   \n",
       "1               0          0          0  ...               0                0   \n",
       "2               0          0          0  ...               0                0   \n",
       "3               0          0          0  ...               0                0   \n",
       "4               0          1          0  ...               0                0   \n",
       "...           ...        ...        ...  ...             ...              ...   \n",
       "399995          0          0          0  ...               0                0   \n",
       "399996          0          0          0  ...               0                0   \n",
       "399997          0          0          0  ...               0                0   \n",
       "399998          0          0          0  ...               0                0   \n",
       "399999          0          1          0  ...               0                0   \n",
       "\n",
       "        Model_YarisLE  Model_Yukon  Model_Yukon2WD  Model_Yukon4WD  \\\n",
       "0                   0            0               0               0   \n",
       "1                   0            0               0               0   \n",
       "2                   0            0               0               0   \n",
       "3                   0            0               0               0   \n",
       "4                   0            0               0               0   \n",
       "...               ...          ...             ...             ...   \n",
       "399995              0            0               0               0   \n",
       "399996              0            0               0               0   \n",
       "399997              0            0               0               0   \n",
       "399998              0            0               0               0   \n",
       "399999              0            0               0               0   \n",
       "\n",
       "        Model_Yukon4dr  Model_tC2dr  Model_xB5dr  Model_xD5dr  \n",
       "0                    0            0            0            0  \n",
       "1                    0            0            0            0  \n",
       "2                    0            0            0            0  \n",
       "3                    0            0            0            0  \n",
       "4                    0            0            0            0  \n",
       "...                ...          ...          ...          ...  \n",
       "399995               0            0            0            0  \n",
       "399996               0            0            0            0  \n",
       "399997               0            0            0            0  \n",
       "399998               0            0            0            0  \n",
       "399999               0            0            0            0  \n",
       "\n",
       "[400000 rows x 617 columns]"
      ]
     },
     "execution_count": 43,
     "metadata": {},
     "output_type": "execute_result"
    }
   ],
   "source": [
    "dataTraining"
   ]
  },
  {
   "cell_type": "code",
   "execution_count": 5,
   "metadata": {},
   "outputs": [],
   "source": [
    "dataTesting = pd.get_dummies(dataTesting, columns=['State'])\n",
    "dataTesting = pd.get_dummies(dataTesting, columns=['Make'])\n",
    "dataTesting = pd.get_dummies(dataTesting, columns=['Model'])"
   ]
  },
  {
   "cell_type": "code",
   "execution_count": 45,
   "metadata": {},
   "outputs": [
    {
     "data": {
      "text/html": [
       "<div>\n",
       "<style scoped>\n",
       "    .dataframe tbody tr th:only-of-type {\n",
       "        vertical-align: middle;\n",
       "    }\n",
       "\n",
       "    .dataframe tbody tr th {\n",
       "        vertical-align: top;\n",
       "    }\n",
       "\n",
       "    .dataframe thead th {\n",
       "        text-align: right;\n",
       "    }\n",
       "</style>\n",
       "<table border=\"1\" class=\"dataframe\">\n",
       "  <thead>\n",
       "    <tr style=\"text-align: right;\">\n",
       "      <th></th>\n",
       "      <th>Year</th>\n",
       "      <th>Mileage</th>\n",
       "      <th>State_ AK</th>\n",
       "      <th>State_ AL</th>\n",
       "      <th>State_ AR</th>\n",
       "      <th>State_ AZ</th>\n",
       "      <th>State_ CA</th>\n",
       "      <th>State_ CO</th>\n",
       "      <th>State_ CT</th>\n",
       "      <th>State_ DC</th>\n",
       "      <th>...</th>\n",
       "      <th>Model_Yaris4dr</th>\n",
       "      <th>Model_YarisBase</th>\n",
       "      <th>Model_YarisLE</th>\n",
       "      <th>Model_Yukon</th>\n",
       "      <th>Model_Yukon2WD</th>\n",
       "      <th>Model_Yukon4WD</th>\n",
       "      <th>Model_Yukon4dr</th>\n",
       "      <th>Model_tC2dr</th>\n",
       "      <th>Model_xB5dr</th>\n",
       "      <th>Model_xD5dr</th>\n",
       "    </tr>\n",
       "    <tr>\n",
       "      <th>ID</th>\n",
       "      <th></th>\n",
       "      <th></th>\n",
       "      <th></th>\n",
       "      <th></th>\n",
       "      <th></th>\n",
       "      <th></th>\n",
       "      <th></th>\n",
       "      <th></th>\n",
       "      <th></th>\n",
       "      <th></th>\n",
       "      <th></th>\n",
       "      <th></th>\n",
       "      <th></th>\n",
       "      <th></th>\n",
       "      <th></th>\n",
       "      <th></th>\n",
       "      <th></th>\n",
       "      <th></th>\n",
       "      <th></th>\n",
       "      <th></th>\n",
       "      <th></th>\n",
       "    </tr>\n",
       "  </thead>\n",
       "  <tbody>\n",
       "    <tr>\n",
       "      <th>0</th>\n",
       "      <td>2014</td>\n",
       "      <td>31909</td>\n",
       "      <td>0</td>\n",
       "      <td>0</td>\n",
       "      <td>0</td>\n",
       "      <td>0</td>\n",
       "      <td>0</td>\n",
       "      <td>0</td>\n",
       "      <td>0</td>\n",
       "      <td>0</td>\n",
       "      <td>...</td>\n",
       "      <td>0</td>\n",
       "      <td>0</td>\n",
       "      <td>0</td>\n",
       "      <td>0</td>\n",
       "      <td>0</td>\n",
       "      <td>0</td>\n",
       "      <td>0</td>\n",
       "      <td>0</td>\n",
       "      <td>0</td>\n",
       "      <td>0</td>\n",
       "    </tr>\n",
       "    <tr>\n",
       "      <th>1</th>\n",
       "      <td>2017</td>\n",
       "      <td>5362</td>\n",
       "      <td>0</td>\n",
       "      <td>0</td>\n",
       "      <td>0</td>\n",
       "      <td>0</td>\n",
       "      <td>0</td>\n",
       "      <td>0</td>\n",
       "      <td>0</td>\n",
       "      <td>0</td>\n",
       "      <td>...</td>\n",
       "      <td>0</td>\n",
       "      <td>0</td>\n",
       "      <td>0</td>\n",
       "      <td>0</td>\n",
       "      <td>0</td>\n",
       "      <td>0</td>\n",
       "      <td>0</td>\n",
       "      <td>0</td>\n",
       "      <td>0</td>\n",
       "      <td>0</td>\n",
       "    </tr>\n",
       "    <tr>\n",
       "      <th>2</th>\n",
       "      <td>2014</td>\n",
       "      <td>50300</td>\n",
       "      <td>0</td>\n",
       "      <td>0</td>\n",
       "      <td>0</td>\n",
       "      <td>0</td>\n",
       "      <td>0</td>\n",
       "      <td>0</td>\n",
       "      <td>0</td>\n",
       "      <td>0</td>\n",
       "      <td>...</td>\n",
       "      <td>0</td>\n",
       "      <td>0</td>\n",
       "      <td>0</td>\n",
       "      <td>0</td>\n",
       "      <td>0</td>\n",
       "      <td>0</td>\n",
       "      <td>0</td>\n",
       "      <td>0</td>\n",
       "      <td>0</td>\n",
       "      <td>0</td>\n",
       "    </tr>\n",
       "    <tr>\n",
       "      <th>3</th>\n",
       "      <td>2004</td>\n",
       "      <td>132160</td>\n",
       "      <td>0</td>\n",
       "      <td>0</td>\n",
       "      <td>0</td>\n",
       "      <td>0</td>\n",
       "      <td>0</td>\n",
       "      <td>0</td>\n",
       "      <td>0</td>\n",
       "      <td>0</td>\n",
       "      <td>...</td>\n",
       "      <td>0</td>\n",
       "      <td>0</td>\n",
       "      <td>0</td>\n",
       "      <td>0</td>\n",
       "      <td>0</td>\n",
       "      <td>0</td>\n",
       "      <td>0</td>\n",
       "      <td>0</td>\n",
       "      <td>0</td>\n",
       "      <td>0</td>\n",
       "    </tr>\n",
       "    <tr>\n",
       "      <th>4</th>\n",
       "      <td>2015</td>\n",
       "      <td>25226</td>\n",
       "      <td>0</td>\n",
       "      <td>0</td>\n",
       "      <td>0</td>\n",
       "      <td>0</td>\n",
       "      <td>0</td>\n",
       "      <td>0</td>\n",
       "      <td>0</td>\n",
       "      <td>0</td>\n",
       "      <td>...</td>\n",
       "      <td>0</td>\n",
       "      <td>0</td>\n",
       "      <td>0</td>\n",
       "      <td>0</td>\n",
       "      <td>0</td>\n",
       "      <td>0</td>\n",
       "      <td>0</td>\n",
       "      <td>0</td>\n",
       "      <td>0</td>\n",
       "      <td>0</td>\n",
       "    </tr>\n",
       "    <tr>\n",
       "      <th>...</th>\n",
       "      <td>...</td>\n",
       "      <td>...</td>\n",
       "      <td>...</td>\n",
       "      <td>...</td>\n",
       "      <td>...</td>\n",
       "      <td>...</td>\n",
       "      <td>...</td>\n",
       "      <td>...</td>\n",
       "      <td>...</td>\n",
       "      <td>...</td>\n",
       "      <td>...</td>\n",
       "      <td>...</td>\n",
       "      <td>...</td>\n",
       "      <td>...</td>\n",
       "      <td>...</td>\n",
       "      <td>...</td>\n",
       "      <td>...</td>\n",
       "      <td>...</td>\n",
       "      <td>...</td>\n",
       "      <td>...</td>\n",
       "      <td>...</td>\n",
       "    </tr>\n",
       "    <tr>\n",
       "      <th>99995</th>\n",
       "      <td>2015</td>\n",
       "      <td>82719</td>\n",
       "      <td>0</td>\n",
       "      <td>0</td>\n",
       "      <td>0</td>\n",
       "      <td>0</td>\n",
       "      <td>0</td>\n",
       "      <td>0</td>\n",
       "      <td>0</td>\n",
       "      <td>0</td>\n",
       "      <td>...</td>\n",
       "      <td>0</td>\n",
       "      <td>0</td>\n",
       "      <td>0</td>\n",
       "      <td>0</td>\n",
       "      <td>0</td>\n",
       "      <td>0</td>\n",
       "      <td>0</td>\n",
       "      <td>0</td>\n",
       "      <td>0</td>\n",
       "      <td>0</td>\n",
       "    </tr>\n",
       "    <tr>\n",
       "      <th>99996</th>\n",
       "      <td>2015</td>\n",
       "      <td>19711</td>\n",
       "      <td>0</td>\n",
       "      <td>0</td>\n",
       "      <td>0</td>\n",
       "      <td>0</td>\n",
       "      <td>0</td>\n",
       "      <td>0</td>\n",
       "      <td>0</td>\n",
       "      <td>0</td>\n",
       "      <td>...</td>\n",
       "      <td>0</td>\n",
       "      <td>0</td>\n",
       "      <td>0</td>\n",
       "      <td>0</td>\n",
       "      <td>0</td>\n",
       "      <td>0</td>\n",
       "      <td>0</td>\n",
       "      <td>0</td>\n",
       "      <td>0</td>\n",
       "      <td>0</td>\n",
       "    </tr>\n",
       "    <tr>\n",
       "      <th>99997</th>\n",
       "      <td>2016</td>\n",
       "      <td>48049</td>\n",
       "      <td>0</td>\n",
       "      <td>0</td>\n",
       "      <td>0</td>\n",
       "      <td>0</td>\n",
       "      <td>1</td>\n",
       "      <td>0</td>\n",
       "      <td>0</td>\n",
       "      <td>0</td>\n",
       "      <td>...</td>\n",
       "      <td>0</td>\n",
       "      <td>0</td>\n",
       "      <td>0</td>\n",
       "      <td>0</td>\n",
       "      <td>0</td>\n",
       "      <td>0</td>\n",
       "      <td>0</td>\n",
       "      <td>0</td>\n",
       "      <td>0</td>\n",
       "      <td>0</td>\n",
       "    </tr>\n",
       "    <tr>\n",
       "      <th>99998</th>\n",
       "      <td>2017</td>\n",
       "      <td>15306</td>\n",
       "      <td>0</td>\n",
       "      <td>0</td>\n",
       "      <td>0</td>\n",
       "      <td>0</td>\n",
       "      <td>0</td>\n",
       "      <td>1</td>\n",
       "      <td>0</td>\n",
       "      <td>0</td>\n",
       "      <td>...</td>\n",
       "      <td>0</td>\n",
       "      <td>0</td>\n",
       "      <td>0</td>\n",
       "      <td>0</td>\n",
       "      <td>0</td>\n",
       "      <td>0</td>\n",
       "      <td>0</td>\n",
       "      <td>0</td>\n",
       "      <td>0</td>\n",
       "      <td>0</td>\n",
       "    </tr>\n",
       "    <tr>\n",
       "      <th>99999</th>\n",
       "      <td>2013</td>\n",
       "      <td>40393</td>\n",
       "      <td>0</td>\n",
       "      <td>0</td>\n",
       "      <td>0</td>\n",
       "      <td>0</td>\n",
       "      <td>0</td>\n",
       "      <td>0</td>\n",
       "      <td>0</td>\n",
       "      <td>0</td>\n",
       "      <td>...</td>\n",
       "      <td>0</td>\n",
       "      <td>0</td>\n",
       "      <td>0</td>\n",
       "      <td>0</td>\n",
       "      <td>0</td>\n",
       "      <td>0</td>\n",
       "      <td>0</td>\n",
       "      <td>0</td>\n",
       "      <td>0</td>\n",
       "      <td>0</td>\n",
       "    </tr>\n",
       "  </tbody>\n",
       "</table>\n",
       "<p>100000 rows × 615 columns</p>\n",
       "</div>"
      ],
      "text/plain": [
       "       Year  Mileage  State_ AK  State_ AL  State_ AR  State_ AZ  State_ CA  \\\n",
       "ID                                                                            \n",
       "0      2014    31909          0          0          0          0          0   \n",
       "1      2017     5362          0          0          0          0          0   \n",
       "2      2014    50300          0          0          0          0          0   \n",
       "3      2004   132160          0          0          0          0          0   \n",
       "4      2015    25226          0          0          0          0          0   \n",
       "...     ...      ...        ...        ...        ...        ...        ...   \n",
       "99995  2015    82719          0          0          0          0          0   \n",
       "99996  2015    19711          0          0          0          0          0   \n",
       "99997  2016    48049          0          0          0          0          1   \n",
       "99998  2017    15306          0          0          0          0          0   \n",
       "99999  2013    40393          0          0          0          0          0   \n",
       "\n",
       "       State_ CO  State_ CT  State_ DC  ...  Model_Yaris4dr  Model_YarisBase  \\\n",
       "ID                                      ...                                    \n",
       "0              0          0          0  ...               0                0   \n",
       "1              0          0          0  ...               0                0   \n",
       "2              0          0          0  ...               0                0   \n",
       "3              0          0          0  ...               0                0   \n",
       "4              0          0          0  ...               0                0   \n",
       "...          ...        ...        ...  ...             ...              ...   \n",
       "99995          0          0          0  ...               0                0   \n",
       "99996          0          0          0  ...               0                0   \n",
       "99997          0          0          0  ...               0                0   \n",
       "99998          1          0          0  ...               0                0   \n",
       "99999          0          0          0  ...               0                0   \n",
       "\n",
       "       Model_YarisLE  Model_Yukon  Model_Yukon2WD  Model_Yukon4WD  \\\n",
       "ID                                                                  \n",
       "0                  0            0               0               0   \n",
       "1                  0            0               0               0   \n",
       "2                  0            0               0               0   \n",
       "3                  0            0               0               0   \n",
       "4                  0            0               0               0   \n",
       "...              ...          ...             ...             ...   \n",
       "99995              0            0               0               0   \n",
       "99996              0            0               0               0   \n",
       "99997              0            0               0               0   \n",
       "99998              0            0               0               0   \n",
       "99999              0            0               0               0   \n",
       "\n",
       "       Model_Yukon4dr  Model_tC2dr  Model_xB5dr  Model_xD5dr  \n",
       "ID                                                            \n",
       "0                   0            0            0            0  \n",
       "1                   0            0            0            0  \n",
       "2                   0            0            0            0  \n",
       "3                   0            0            0            0  \n",
       "4                   0            0            0            0  \n",
       "...               ...          ...          ...          ...  \n",
       "99995               0            0            0            0  \n",
       "99996               0            0            0            0  \n",
       "99997               0            0            0            0  \n",
       "99998               0            0            0            0  \n",
       "99999               0            0            0            0  \n",
       "\n",
       "[100000 rows x 615 columns]"
      ]
     },
     "execution_count": 45,
     "metadata": {},
     "output_type": "execute_result"
    }
   ],
   "source": [
    "dataTesting"
   ]
  },
  {
   "cell_type": "code",
   "execution_count": 6,
   "metadata": {},
   "outputs": [
    {
     "name": "stdout",
     "output_type": "stream",
     "text": [
      "Los dataframes tienen columnas diferentes.\n"
     ]
    }
   ],
   "source": [
    "# Supongamos que el primer dataframe se llama df1 y el segundo df2\n",
    "# Primero, encontramos las dos columnas diferentes y las eliminamos de uno de los dataframes\n",
    "diff_cols = set(dataTraining.columns).difference(set(dataTesting.columns))\n",
    "#df1 = df1.drop(diff_cols, axis=1)\n",
    "\n",
    "# Luego, comprobamos si ambos dataframes tienen las mismas columnas\n",
    "if dataTraining.columns.equals(dataTesting.columns):\n",
    "    print(\"Ambos dataframes tienen las mismas columnas.\")\n",
    "else:\n",
    "    print(\"Los dataframes tienen columnas diferentes.\")\n"
   ]
  },
  {
   "cell_type": "code",
   "execution_count": 7,
   "metadata": {},
   "outputs": [
    {
     "data": {
      "text/plain": [
       "{'Make_Freightliner', 'Price'}"
      ]
     },
     "execution_count": 7,
     "metadata": {},
     "output_type": "execute_result"
    }
   ],
   "source": [
    "diff_cols"
   ]
  },
  {
   "cell_type": "code",
   "execution_count": 8,
   "metadata": {},
   "outputs": [],
   "source": [
    "dataTraining = dataTraining.drop(['Make_Freightliner'], axis=1)"
   ]
  },
  {
   "cell_type": "code",
   "execution_count": 85,
   "metadata": {},
   "outputs": [],
   "source": [
    "# Separación de variables predictoras (X) y variable de interés (y)\n",
    "y = dataTraining['Price']\n",
    "X = dataTraining.drop(['Price'], axis=1)"
   ]
  },
  {
   "cell_type": "code",
   "execution_count": 216,
   "metadata": {},
   "outputs": [],
   "source": [
    "# Separación de datos en set de entrenamiento y test\n",
    "from sklearn.model_selection import train_test_split\n",
    "X_train, X_test, y_train, y_test = train_test_split(X, y, test_size=0.33, random_state=42)"
   ]
  },
  {
   "cell_type": "markdown",
   "metadata": {
    "tags": []
   },
   "source": [
    "## Calibración del modelo"
   ]
  },
  {
   "cell_type": "markdown",
   "metadata": {},
   "source": [
    "### XGBoost"
   ]
  },
  {
   "cell_type": "code",
   "execution_count": 65,
   "metadata": {},
   "outputs": [
    {
     "name": "stdout",
     "output_type": "stream",
     "text": [
      "XGBRegressor(base_score=None, booster=None, callbacks=None,\n",
      "             colsample_bylevel=None, colsample_bynode=None,\n",
      "             colsample_bytree=None, early_stopping_rounds=None,\n",
      "             enable_categorical=False, eval_metric=None, feature_types=None,\n",
      "             gamma=None, gpu_id=None, grow_policy=None, importance_type=None,\n",
      "             interaction_constraints=None, learning_rate=None, max_bin=None,\n",
      "             max_cat_threshold=None, max_cat_to_onehot=None,\n",
      "             max_delta_step=None, max_depth=None, max_leaves=None,\n",
      "             min_child_weight=None, missing=nan, monotone_constraints=None,\n",
      "             n_estimators=100, n_jobs=None, num_parallel_tree=None,\n",
      "             predictor=None, random_state=None, ...)\n",
      "El MSE del modelo es: 21882789.048640464\n",
      "El R2 del modelo es: 0.8112673368178874\n"
     ]
    }
   ],
   "source": [
    "#MODELO XGBOOST\n",
    "clf = XGBRegressor()\n",
    "print(clf)\n",
    "# Entrenamiento (fit) y desempeño del modelo XGBoost\n",
    "clf.fit(X_train, y_train)\n",
    "y_pred = clf.predict(X_test)\n",
    "print(f\"El MSE del modelo es: {mean_squared_error(y_test, y_pred)}\")\n",
    "print(f\"El R2 del modelo es: {r2_score(y_test, y_pred)}\")"
   ]
  },
  {
   "cell_type": "code",
   "execution_count": 83,
   "metadata": {},
   "outputs": [
    {
     "data": {
      "image/png": "[encoded data removed]",
      "text/plain": [
       "<Figure size 432x288 with 1 Axes>"
      ]
     },
     "metadata": {
      "needs_background": "light"
     },
     "output_type": "display_data"
    },
    {
     "name": "stdout",
     "output_type": "stream",
     "text": [
      "El mejor valor de learning_rate es: 0.26\n",
      "MSE en conjunto de prueba con mejor valor de learning_rate:  19818080.280611884\n",
      "R2 en conjunto de prueba con mejor valor de learning_rate:  0.827742686712283\n"
     ]
    }
   ],
   "source": [
    "#Calibración para learning rate\n",
    "\n",
    "# Definir los diferentes valores de learning_rate que se van a probar\n",
    "#learning_rate = np.arange(0.01, 0.3, 0.01)\n",
    "learning_rate = np.arange(0.1, 0.3, 0.04)\n",
    "# Inicializar la lista donde se guardarán los resultados\n",
    "medias = []\n",
    "# Entrenar el modelo para cada valor de learning_rate y calcular el MSE\n",
    "for i in learning_rate:\n",
    "    clf = XGBRegressor(learning_rate=i)\n",
    "    clf.fit(X_train, y_train)\n",
    "    y_pred = clf.predict(X_test)\n",
    "    medias.append(mean_squared_error(y_test, y_pred))\n",
    "# Graficar los resultados\n",
    "plt.plot(learning_rate, medias)\n",
    "plt.title(\"XGBoost learning_rate vs MSE\")\n",
    "plt.xlabel('learning_rate')\n",
    "plt.ylabel('MSE')\n",
    "plt.show()\n",
    "# Seleccionar el mejor valor de learning_rate\n",
    "best_learning_rate = learning_rate[np.argmin(medias)]\n",
    "print(\"El mejor valor de learning_rate es:\", best_learning_rate)\n",
    "# Entrenar un nuevo modelo XGBoost con el mejor valor de learning_rate encontrado\n",
    "clf = XGBRegressor(learning_rate=best_learning_rate)\n",
    "clf.fit(X_train, y_train)\n",
    "# Realizar predicciones en el conjunto de prueba\n",
    "y_pred = clf.predict(X_test)\n",
    "# Evaluar el rendimiento del modelo utilizando la métrica MSE\n",
    "mse_lr = mean_squared_error(y_test, y_pred)\n",
    "r2_lr = r2_score(y_test, y_pred)\n",
    "print(\"MSE en conjunto de prueba con mejor valor de learning_rate: \", mse_lr)\n",
    "print(\"R2 en conjunto de prueba con mejor valor de learning_rate: \", r2_lr)"
   ]
  },
  {
   "cell_type": "code",
   "execution_count": 86,
   "metadata": {},
   "outputs": [
    {
     "data": {
      "image/png": "[encoded data removed]",
      "text/plain": [
       "<Figure size 432x288 with 1 Axes>"
      ]
     },
     "metadata": {
      "needs_background": "light"
     },
     "output_type": "display_data"
    },
    {
     "name": "stdout",
     "output_type": "stream",
     "text": [
      "El mejor valor de learning_rate es: 0.31000000000000005\n",
      "MSE en conjunto de prueba con mejor valor de learning_rate:  18015297.561663147\n",
      "R2 en conjunto de prueba con mejor valor de learning_rate:  0.8434123430670127\n"
     ]
    }
   ],
   "source": [
    "#Calibración para learning rate\n",
    "\n",
    "# Definir los diferentes valores de learning_rate que se van a probar\n",
    "#learning_rate = np.arange(0.01, 0.3, 0.01)\n",
    "learning_rate = np.arange(0.26, 0.32, 0.01)\n",
    "# Inicializar la lista donde se guardarán los resultados\n",
    "medias = []\n",
    "# Entrenar el modelo para cada valor de learning_rate y calcular el MSE\n",
    "for i in learning_rate:\n",
    "    clf = XGBRegressor(learning_rate=i)\n",
    "    clf.fit(X_train, y_train)\n",
    "    y_pred = clf.predict(X_test)\n",
    "    medias.append(mean_squared_error(y_test, y_pred))\n",
    "# Graficar los resultados\n",
    "plt.plot(learning_rate, medias)\n",
    "plt.title(\"XGBoost learning_rate vs MSE\")\n",
    "plt.xlabel('learning_rate')\n",
    "plt.ylabel('MSE')\n",
    "plt.show()\n",
    "# Seleccionar el mejor valor de learning_rate\n",
    "best_learning_rate = learning_rate[np.argmin(medias)]\n",
    "print(\"El mejor valor de learning_rate es:\", best_learning_rate)\n",
    "# Entrenar un nuevo modelo XGBoost con el mejor valor de learning_rate encontrado\n",
    "clf = XGBRegressor(learning_rate=best_learning_rate)\n",
    "clf.fit(X_train, y_train)\n",
    "# Realizar predicciones en el conjunto de prueba\n",
    "y_pred = clf.predict(X_test)\n",
    "# Evaluar el rendimiento del modelo utilizando la métrica MSE\n",
    "mse_lr = mean_squared_error(y_test, y_pred)\n",
    "r2_lr = r2_score(y_test, y_pred)\n",
    "print(\"MSE en conjunto de prueba con mejor valor de learning_rate: \", mse_lr)\n",
    "print(\"R2 en conjunto de prueba con mejor valor de learning_rate: \", r2_lr)"
   ]
  },
  {
   "cell_type": "code",
   "execution_count": 89,
   "metadata": {},
   "outputs": [
    {
     "data": {
      "image/png": "[encoded data removed]",
      "text/plain": [
       "<Figure size 432x288 with 1 Axes>"
      ]
     },
     "metadata": {
      "needs_background": "light"
     },
     "output_type": "display_data"
    },
    {
     "name": "stdout",
     "output_type": "stream",
     "text": [
      "El mejor valor de learning_rate es: 0.5599999999999999\n",
      "MSE en conjunto de prueba con mejor valor de learning_rate:  14628240.66367844\n",
      "R2 en conjunto de prueba con mejor valor de learning_rate:  0.8728523954302208\n"
     ]
    }
   ],
   "source": [
    "#Calibración para learning rate\n",
    "\n",
    "# Definir los diferentes valores de learning_rate que se van a probar\n",
    "#learning_rate = np.arange(0.01, 0.3, 0.01)\n",
    "learning_rate = np.arange(0.31, 0.6, 0.05)\n",
    "# Inicializar la lista donde se guardarán los resultados\n",
    "medias = []\n",
    "# Entrenar el modelo para cada valor de learning_rate y calcular el MSE\n",
    "for i in learning_rate:\n",
    "    clf = XGBRegressor(learning_rate=i)\n",
    "    clf.fit(X_train, y_train)\n",
    "    y_pred = clf.predict(X_test)\n",
    "    medias.append(mean_squared_error(y_test, y_pred))\n",
    "# Graficar los resultados\n",
    "plt.plot(learning_rate, medias)\n",
    "plt.title(\"XGBoost learning_rate vs MSE\")\n",
    "plt.xlabel('learning_rate')\n",
    "plt.ylabel('MSE')\n",
    "plt.show()\n",
    "# Seleccionar el mejor valor de learning_rate\n",
    "best_learning_rate = learning_rate[np.argmin(medias)]\n",
    "print(\"El mejor valor de learning_rate es:\", best_learning_rate)\n",
    "# Entrenar un nuevo modelo XGBoost con el mejor valor de learning_rate encontrado\n",
    "clf = XGBRegressor(learning_rate=best_learning_rate)\n",
    "clf.fit(X_train, y_train)\n",
    "# Realizar predicciones en el conjunto de prueba\n",
    "y_pred = clf.predict(X_test)\n",
    "# Evaluar el rendimiento del modelo utilizando la métrica MSE\n",
    "mse_lr = mean_squared_error(y_test, y_pred)\n",
    "r2_lr = r2_score(y_test, y_pred)\n",
    "print(\"MSE en conjunto de prueba con mejor valor de learning_rate: \", mse_lr)\n",
    "print(\"R2 en conjunto de prueba con mejor valor de learning_rate: \", r2_lr)"
   ]
  },
  {
   "cell_type": "code",
   "execution_count": 124,
   "metadata": {},
   "outputs": [
    {
     "data": {
      "image/png": "[encoded data removed]",
      "text/plain": [
       "<Figure size 432x288 with 1 Axes>"
      ]
     },
     "metadata": {
      "needs_background": "light"
     },
     "output_type": "display_data"
    },
    {
     "name": "stdout",
     "output_type": "stream",
     "text": [
      "El mejor valor de learning_rate es: 0.8000000000000003\n",
      "MSE en conjunto de prueba con mejor valor de learning_rate:  13512782.44663595\n",
      "R2 en conjunto de prueba con mejor valor de learning_rate:  0.8825478771737488\n"
     ]
    }
   ],
   "source": [
    "#Calibración para learning rate\n",
    "\n",
    "# Definir los diferentes valores de learning_rate que se van a probar\n",
    "#learning_rate = np.arange(0.01, 0.3, 0.01)\n",
    "learning_rate = np.arange(0.55, 1.0, 0.05)\n",
    "# Inicializar la lista donde se guardarán los resultados\n",
    "medias = []\n",
    "# Entrenar el modelo para cada valor de learning_rate y calcular el MSE\n",
    "for i in learning_rate:\n",
    "    clf = XGBRegressor(learning_rate=i)\n",
    "    clf.fit(X_train, y_train)\n",
    "    y_pred = clf.predict(X_test)\n",
    "    medias.append(mean_squared_error(y_test, y_pred))\n",
    "# Graficar los resultados\n",
    "plt.plot(learning_rate, medias)\n",
    "plt.title(\"XGBoost learning_rate vs MSE\")\n",
    "plt.xlabel('learning_rate')\n",
    "plt.ylabel('MSE')\n",
    "plt.show()\n",
    "# Seleccionar el mejor valor de learning_rate\n",
    "best_learning_rate = learning_rate[np.argmin(medias)]\n",
    "print(\"El mejor valor de learning_rate es:\", best_learning_rate)\n",
    "# Entrenar un nuevo modelo XGBoost con el mejor valor de learning_rate encontrado\n",
    "clf = XGBRegressor(learning_rate=best_learning_rate)\n",
    "clf.fit(X_train, y_train)\n",
    "# Realizar predicciones en el conjunto de prueba\n",
    "y_pred = clf.predict(X_test)\n",
    "# Evaluar el rendimiento del modelo utilizando la métrica MSE\n",
    "mse_lr = mean_squared_error(y_test, y_pred)\n",
    "r2_lr = r2_score(y_test, y_pred)\n",
    "print(\"MSE en conjunto de prueba con mejor valor de learning_rate: \", mse_lr)\n",
    "print(\"R2 en conjunto de prueba con mejor valor de learning_rate: \", r2_lr)"
   ]
  },
  {
   "cell_type": "code",
   "execution_count": 129,
   "metadata": {},
   "outputs": [
    {
     "name": "stdout",
     "output_type": "stream",
     "text": [
      "El mejor valor de gamma es: 0.1\n"
     ]
    },
    {
     "data": {
      "image/png": "[encoded data removed]",
      "text/plain": [
       "<Figure size 432x288 with 1 Axes>"
      ]
     },
     "metadata": {
      "needs_background": "light"
     },
     "output_type": "display_data"
    },
    {
     "name": "stdout",
     "output_type": "stream",
     "text": [
      "MSE en conjunto de prueba con mejor valor de learning_rate y el mejor gamma es:  13512782.44663595\n",
      "R2 en conjunto de prueba con mejor valor de learning_rate y el mejor gamma es:  0.8825478771737488\n"
     ]
    }
   ],
   "source": [
    "#Calibración del mejor gamma\n",
    "\n",
    "# Definir los diferentes valores de gamma que se van a probar\n",
    "#gammas = np.arange(0.1, 10, 0.5)\n",
    "gammas = np.arange(0.1, 10, 1.3)\n",
    "# Entrenar modelos XGBoost con cada valor de gamma y calcular el MSE en el conjunto de prueba\n",
    "mses = []\n",
    "for gamma in gammas:\n",
    "    clf = XGBRegressor(gamma=gamma,learning_rate=best_learning_rate)\n",
    "    clf.fit(X_train, y_train)\n",
    "    y_pred = clf.predict(X_test)\n",
    "    mse = mean_squared_error(y_test, y_pred)\n",
    "    mses.append(mse)\n",
    "# Encontrar el índice del valor de gamma con el MSE más bajo\n",
    "best_gamma_idx = np.argmin(mses)\n",
    "best_gamma = gammas[best_gamma_idx]\n",
    "# Imprimir el valor de gamma con el MSE más bajo\n",
    "print(\"El mejor valor de gamma es:\", best_gamma)\n",
    "# Graficar los resultados\n",
    "plt.plot(gammas, mses, '-o')\n",
    "plt.xlabel('Gammas')\n",
    "plt.ylabel('MSE')\n",
    "plt.title('MSE vs Gammas')\n",
    "plt.show()\n",
    "# Entrenar un nuevo modelo XGBoost con el mejor valor de learning_rate encontrado y el mejor gamma\n",
    "clf = XGBRegressor(learning_rate=best_learning_rate, gamma = best_gamma)\n",
    "clf.fit(X_train, y_train)\n",
    "# Realizar predicciones en el conjunto de prueba\n",
    "y_pred = clf.predict(X_test)\n",
    "# Evaluar el rendimiento del modelo utilizando la métrica MSE\n",
    "mse_g = mean_squared_error(y_test, y_pred)\n",
    "print(\"MSE en conjunto de prueba con mejor valor de learning_rate y el mejor gamma es: \", mse_g)  \n",
    "r2_g = r2_score(y_test, y_pred)\n",
    "print(\"R2 en conjunto de prueba con mejor valor de learning_rate y el mejor gamma es: \", r2_g)"
   ]
  },
  {
   "cell_type": "code",
   "execution_count": 132,
   "metadata": {},
   "outputs": [
    {
     "name": "stdout",
     "output_type": "stream",
     "text": [
      "El mejor valor de colsample_bytree es: 0.9\n"
     ]
    },
    {
     "data": {
      "image/png": "[encoded data removed]",
      "text/plain": [
       "<Figure size 432x288 with 1 Axes>"
      ]
     },
     "metadata": {
      "needs_background": "light"
     },
     "output_type": "display_data"
    },
    {
     "name": "stdout",
     "output_type": "stream",
     "text": [
      "MSE en conjunto de prueba con mejor valor de learning_rate, el mejor gamma, y el mejor colsample_bytree es:  13659672.291647239\n",
      "R2 en conjunto de prueba con mejor valor de learning_rate, el mejor gamma, y el mejor colsample_bytree es:  0.8812711213178526\n"
     ]
    }
   ],
   "source": [
    "#Calibración del mejor colsample_bytree\n",
    "\n",
    "# Definir los diferentes valores de colsample_bytree que se van a probar\n",
    "#colsamples = np.arange(0.1, 1, 0.01)\n",
    "colsamples = np.arange(0.1, 1, 0.1)\n",
    "# Entrenar modelos XGBoost con cada valor de colsample_bytree y calcular el MSE en el conjunto de prueba\n",
    "mses = []\n",
    "for colsample in colsamples:\n",
    "    clf = XGBRegressor(colsample_bytree=colsample)\n",
    "    clf.fit(X_train, y_train)\n",
    "    y_pred = clf.predict(X_test)\n",
    "    mse = mean_squared_error(y_test, y_pred)\n",
    "    mses.append(mse)\n",
    "# Encontrar el índice del valor de colsample_bytree con el MSE más bajo\n",
    "best_colsample_idx = np.argmin(mses)\n",
    "best_colsample = colsamples[best_colsample_idx]\n",
    "# Imprimir el valor de colsample_bytree con el MSE más bajo\n",
    "print(\"El mejor valor de colsample_bytree es:\", best_colsample)\n",
    "# Graficar los resultados\n",
    "plt.plot(colsamples, mses, '-o')\n",
    "#plt.xscale('log')\n",
    "plt.xlabel('Colsample Bytree')\n",
    "plt.ylabel('MSE')\n",
    "plt.title('MSE vs Colsample bytree')\n",
    "plt.show()\n",
    "# Entrenar un nuevo modelo XGBoost con el mejor valor de learning_rate encontrado y el mejor gamma\n",
    "clf = XGBRegressor(learning_rate=best_learning_rate, gamma = best_gamma, colsample_bytree = best_colsample)\n",
    "clf.fit(X_train, y_train)\n",
    "# Realizar predicciones en el conjunto de prueba\n",
    "y_pred = clf.predict(X_test)\n",
    "# Evaluar el rendimiento del modelo utilizando la métrica MSE\n",
    "mse_CST = mean_squared_error(y_test, y_pred)\n",
    "r2_CST = r2_score(y_test, y_pred)\n",
    "print(\"MSE en conjunto de prueba con mejor valor de learning_rate, el mejor gamma, y el mejor colsample_bytree es: \", mse_CST)\n",
    "print(\"R2 en conjunto de prueba con mejor valor de learning_rate, el mejor gamma, y el mejor colsample_bytree es: \", r2_CST)"
   ]
  },
  {
   "cell_type": "code",
   "execution_count": 138,
   "metadata": {},
   "outputs": [
    {
     "name": "stdout",
     "output_type": "stream",
     "text": [
      "El mejor valor de colsample_bytree es: 0.9500000000000001\n"
     ]
    },
    {
     "data": {
      "image/png": "[encoded data removed]",
      "text/plain": [
       "<Figure size 432x288 with 1 Axes>"
      ]
     },
     "metadata": {
      "needs_background": "light"
     },
     "output_type": "display_data"
    },
    {
     "name": "stdout",
     "output_type": "stream",
     "text": [
      "MSE en conjunto de prueba con mejor valor de learning_rate, el mejor gamma, y el mejor colsample_bytree es:  13597017.968465246\n",
      "R2 en conjunto de prueba con mejor valor de learning_rate, el mejor gamma, y el mejor colsample_bytree es:  0.8818157081408129\n"
     ]
    }
   ],
   "source": [
    "#Calibración del mejor colsample_bytree\n",
    "\n",
    "# Definir los diferentes valores de colsample_bytree que se van a probar\n",
    "#colsamples = np.arange(0.1, 1, 0.01)\n",
    "colsamples = np.arange(0.9, 1.0, 0.01)\n",
    "# Entrenar modelos XGBoost con cada valor de colsample_bytree y calcular el MSE en el conjunto de prueba\n",
    "mses = []\n",
    "for colsample in colsamples:\n",
    "    clf = XGBRegressor(colsample_bytree=colsample)\n",
    "    clf.fit(X_train, y_train)\n",
    "    y_pred = clf.predict(X_test)\n",
    "    mse = mean_squared_error(y_test, y_pred)\n",
    "    mses.append(mse)\n",
    "# Encontrar el índice del valor de colsample_bytree con el MSE más bajo\n",
    "best_colsample_idx = np.argmin(mses)\n",
    "best_colsample = colsamples[best_colsample_idx]\n",
    "# Imprimir el valor de colsample_bytree con el MSE más bajo\n",
    "print(\"El mejor valor de colsample_bytree es:\", best_colsample)\n",
    "# Graficar los resultados\n",
    "plt.plot(colsamples, mses, '-o')\n",
    "#plt.xscale('log')\n",
    "plt.xlabel('Colsample Bytree')\n",
    "plt.ylabel('MSE')\n",
    "plt.title('MSE vs Colsample bytree')\n",
    "plt.show()\n",
    "# Entrenar un nuevo modelo XGBoost con el mejor valor de learning_rate encontrado y el mejor gamma\n",
    "clf = XGBRegressor(learning_rate=best_learning_rate, gamma = best_gamma, colsample_bytree = best_colsample)\n",
    "clf.fit(X_train, y_train)\n",
    "# Realizar predicciones en el conjunto de prueba\n",
    "y_pred = clf.predict(X_test)\n",
    "# Evaluar el rendimiento del modelo utilizando la métrica MSE\n",
    "mse_CST = mean_squared_error(y_test, y_pred)\n",
    "r2_CST = r2_score(y_test, y_pred)\n",
    "print(\"MSE en conjunto de prueba con mejor valor de learning_rate, el mejor gamma, y el mejor colsample_bytree es: \", mse_CST)\n",
    "print(\"R2 en conjunto de prueba con mejor valor de learning_rate, el mejor gamma, y el mejor colsample_bytree es: \", r2_CST)"
   ]
  },
  {
   "cell_type": "markdown",
   "metadata": {},
   "source": [
    "### Random Forest"
   ]
  },
  {
   "cell_type": "code",
   "execution_count": 178,
   "metadata": {},
   "outputs": [
    {
     "name": "stdout",
     "output_type": "stream",
     "text": [
      "El MSE del modelo es: 25764040.64700009\n"
     ]
    }
   ],
   "source": [
    "from sklearn.metrics import mean_squared_error\n",
    "\n",
    "from sklearn.ensemble import RandomForestRegressor\n",
    "#Se entrena el modelo random forest\n",
    "clfRF = RandomForestRegressor(random_state=0)\n",
    "clfRF.fit(X_train, y_train)\n",
    "#Luego se hacen predicciones sobre la muestra\n",
    "prediccionRF=clfRF.predict(X_test)\n",
    "mse = mean_squared_error(y_test, prediccionRF)\n",
    "print(f\"El MSE del modelo es: {mse}\")\n",
    "#print(f\"El R2 del modelo es: {r2_score(y_test, prediccionRF)}\")\n",
    "\n",
    "#X_train, X_test, y_train, y_test"
   ]
  },
  {
   "cell_type": "code",
   "execution_count": 180,
   "metadata": {},
   "outputs": [
    {
     "name": "stdout",
     "output_type": "stream",
     "text": [
      "El mejor valor de n_estimators es: 290\n",
      "MSE en conjunto de prueba con mejor valor de n_estimators:  25695643.27155149\n",
      "r2 en conjunto de prueba con mejor valor de n_estimators:  0.7783825829496474\n"
     ]
    },
    {
     "data": {
      "image/png": "[encoded data removed]",
      "text/plain": [
       "<Figure size 432x288 with 1 Axes>"
      ]
     },
     "metadata": {
      "needs_background": "light"
     },
     "output_type": "display_data"
    }
   ],
   "source": [
    "\n",
    "#calibración de n estimators\n",
    "\n",
    "# Creación de lista de valores para iterar sobre diferentes valores de n_estimators\n",
    "estimator_range = range(10, 310, 10)\n",
    "\n",
    "# Definición de lista para almacenar la exactitud (accuracy) promedio para cada valor de n_estimators\n",
    "mse_scores = []\n",
    "\n",
    "# Uso de un 5-fold cross-validation para cada valor de n_estimators\n",
    "for estimator in estimator_range:\n",
    "    rfr = RandomForestRegressor(n_estimators=estimator, random_state=1, n_jobs=-1)\n",
    "    rfr.fit(X_train, y_train)\n",
    "    y_pred = rfr.predict(X_test)\n",
    "    mse_scores.append(mean_squared_error(y_test, y_pred))\n",
    "\n",
    "# Gráfica del desempeño del modelo vs la cantidad de n_estimators\n",
    "plt.plot(estimator_range, mse_scores)\n",
    "plt.xlabel('n_estimators')\n",
    "plt.ylabel('MSE')\n",
    "\n",
    "# Seleccionar el mejor valor de n_estimators\n",
    "best_n_estimators = estimator_range[np.argmin(mse_scores)]\n",
    "print(\"El mejor valor de n_estimators es:\", best_n_estimators)\n",
    "\n",
    "\n",
    "rfr = RandomForestRegressor(n_estimators=best_n_estimators, random_state=1, n_jobs=-1)\n",
    "rfr.fit(X_train, y_train)\n",
    "# Realizar predicciones en el conjunto de prueba\n",
    "y_pred = rfr.predict(X_test)\n",
    "# Evaluar el rendimiento del modelo utilizando la métrica MSE\n",
    "mse_m2 = mean_squared_error(y_test, y_pred)\n",
    "r2_m2 = r2_score(y_test, y_pred)\n",
    "print(\"MSE en conjunto de prueba con mejor valor de n_estimators: \", mse_m2)\n",
    "print(\"r2 en conjunto de prueba con mejor valor de n_estimators: \", r2_m2)"
   ]
  },
  {
   "cell_type": "code",
   "execution_count": 181,
   "metadata": {},
   "outputs": [
    {
     "name": "stdout",
     "output_type": "stream",
     "text": [
      "El mejor valor de max_features es: 24\n",
      "MSE en conjunto de prueba con mejor valor de max_features:  23201321.465939794\n"
     ]
    },
    {
     "data": {
      "image/png": "[encoded data removed]",
      "text/plain": [
       "<Figure size 432x288 with 1 Axes>"
      ]
     },
     "metadata": {
      "needs_background": "light"
     },
     "output_type": "display_data"
    }
   ],
   "source": [
    "# Creación de lista de valores para iterar sobre diferentes valores de max_features\n",
    "feature_range = range(1, len(X.columns)+1)\n",
    "\n",
    "# Definición de lista para almacenar la exactitud (accuracy) promedio para cada valor de max_features\n",
    "mse_scores = []\n",
    "\n",
    "# Uso de un 10-fold cross-validation para cada valor de max_features\n",
    "for feature in feature_range:\n",
    "    rfr = RandomForestRegressor(n_estimators=120, max_features=feature, random_state=1, n_jobs=-1)\n",
    "    rfr.fit(X_train, y_train)\n",
    "    y_pred = rfr.predict(X_test)\n",
    "    mse_scores.append(mean_squared_error(y_test, y_pred))\n",
    "\n",
    "# Gráfica del desempeño del modelo vs la cantidad de max_features\n",
    "plt.plot(feature_range, mse_scores)\n",
    "plt.xlabel('max_features')\n",
    "plt.ylabel('MSE')\n",
    "\n",
    "# Seleccionar el mejor valor de max_features\n",
    "best_max_features = feature_range[np.argmin(mse_scores)]\n",
    "print(\"El mejor valor de max_features es:\", best_max_features)\n",
    "\n",
    "rfr = RandomForestRegressor(n_estimators=120, max_features=best_max_features, random_state=1, n_jobs=-1)\n",
    "rfr.fit(X_train, y_train)\n",
    "# Realizar predicciones en el conjunto de prueba\n",
    "y_pred = rfr.predict(X_test)\n",
    "# Evaluar el rendimiento del modelo utilizando la métrica MSE\n",
    "mse_m3 = mean_squared_error(y_test, y_pred)\n",
    "#r2_m3 = r2_score(y_test, y_pred)\n",
    "print(\"MSE en conjunto de prueba con mejor valor de max_features: \", mse_m3)\n",
    "#print(\"r2 en conjunto de prueba con mejor valor de max_features: \", r2_m3)"
   ]
  },
  {
   "cell_type": "code",
   "execution_count": 186,
   "metadata": {},
   "outputs": [
    {
     "name": "stdout",
     "output_type": "stream",
     "text": [
      "El mejor valor de max_depth es: 187\n",
      "MSE en conjunto de prueba con mejor valor de max_depth:  23965433.599835645\n",
      "r2 en conjunto de prueba con mejor valor de max_depth:  0.7933051359423459\n"
     ]
    },
    {
     "data": {
      "image/png": "[encoded data removed]",
      "text/plain": [
       "<Figure size 432x288 with 1 Axes>"
      ]
     },
     "metadata": {
      "needs_background": "light"
     },
     "output_type": "display_data"
    }
   ],
   "source": [
    "#max depth\n",
    "\n",
    "# Creación de lista de valores para iterar sobre diferentes valores de max_depth\n",
    "#depth_range = np.arange(1, 20)\n",
    "depth_range = np.arange(50, 200)\n",
    "# Definición de lista para almacenar la exactitud (accuracy) promedio para cada valor de max_depth\n",
    "mse_scores = []\n",
    "\n",
    "# Uso de un 10-fold cross-validation para cada valor de max_depth\n",
    "for depth in depth_range:\n",
    "    rfr = RandomForestRegressor(n_estimators=120, max_features=9, max_depth = depth,random_state=1, n_jobs=-1)\n",
    "    rfr.fit(X_train, y_train)\n",
    "    y_pred = rfr.predict(X_test)\n",
    "    mse_scores.append(mean_squared_error(y_test, y_pred))\n",
    "\n",
    "\n",
    "# Gráfica del desempeño del modelo vs la cantidad de max_depth\n",
    "plt.plot(depth_range, mse_scores)\n",
    "plt.xlabel('max_depth')\n",
    "plt.ylabel('MSE')\n",
    "\n",
    "# Seleccionar el mejor valor de max_depth\n",
    "best_max_depth = depth_range[np.argmin(mse_scores)]\n",
    "print(\"El mejor valor de max_depth es:\", best_max_depth)\n",
    "\n",
    "rfr = RandomForestRegressor(n_estimators=120, max_features=9, max_depth= best_max_depth , random_state=1, n_jobs=-1)\n",
    "rfr.fit(X_train, y_train)\n",
    "# Realizar predicciones en el conjunto de prueba\n",
    "y_pred = rfr.predict(X_test)\n",
    "# Evaluar el rendimiento del modelo utilizando la métrica MSE\n",
    "mse_m4 = mean_squared_error(y_test, y_pred)\n",
    "r2_m4 = r2_score(y_test, y_pred)\n",
    "print(\"MSE en conjunto de prueba con mejor valor de max_depth: \", mse_m4)\n",
    "print(\"r2 en conjunto de prueba con mejor valor de max_depth: \", r2_m4)"
   ]
  },
  {
   "cell_type": "markdown",
   "metadata": {},
   "source": [
    "## Entrenamiento del modelo"
   ]
  },
  {
   "cell_type": "markdown",
   "metadata": {},
   "source": [
    "### Con datos de entrenamiento y validación"
   ]
  },
  {
   "cell_type": "code",
   "execution_count": 218,
   "metadata": {},
   "outputs": [
    {
     "name": "stdout",
     "output_type": "stream",
     "text": [
      "XGBRegressor(base_score=None, booster=None, callbacks=None,\n",
      "             colsample_bylevel=None, colsample_bynode=None,\n",
      "             colsample_bytree=None, early_stopping_rounds=None,\n",
      "             enable_categorical=False, eval_metric=None, feature_types=None,\n",
      "             gamma=None, gpu_id=None, grow_policy=None, importance_type=None,\n",
      "             interaction_constraints=None, learning_rate=None, max_bin=None,\n",
      "             max_cat_threshold=None, max_cat_to_onehot=None,\n",
      "             max_delta_step=None, max_depth=None, max_leaves=None,\n",
      "             min_child_weight=None, missing=nan, monotone_constraints=None,\n",
      "             n_estimators=100, n_jobs=None, num_parallel_tree=None,\n",
      "             predictor=None, random_state=None, ...)\n",
      "El MSE del modelo es: 18229972.188478056\n",
      "El R2 del modelo es: 0.8415464068147332\n"
     ]
    }
   ],
   "source": [
    "#MEJORES MODELOS\n",
    "\n",
    "#MODELO XGBOOST\n",
    "\n",
    "#LEARNING RATE 0.8  GAMA 0.1 COLSAMPLE 0.95\n",
    "clf = XGBRegressor(learning_rate=0.8, gamma = 0.1, colsample_bytree = 0.95)\n",
    "clf = XGBRegressor()\n",
    "print(clf)\n",
    "# Entrenamiento (fit) y desempeño del modelo XGBoost\n",
    "clf.fit(X_train, y_train)\n",
    "y_pred = clf.predict(X_test)\n",
    "print(f\"El MSE del modelo es: {mean_squared_error(y_test, y_pred)}\")\n",
    "print(f\"El R2 del modelo es: {r2_score(y_test, y_pred)}\")"
   ]
  },
  {
   "cell_type": "code",
   "execution_count": 219,
   "metadata": {},
   "outputs": [
    {
     "name": "stdout",
     "output_type": "stream",
     "text": [
      "El MSE del modelo es: 14725676.2581387\n"
     ]
    }
   ],
   "source": [
    "#RANDOM N ESTOMATORS 290, MAX FEATURES 24, MAX DEPTH 187\n",
    "\n",
    "#Se entrena el modelo random forest\n",
    "clfRF = RandomForestRegressor(n_estimators=290, max_features=24,max_depth= 187, random_state=1, n_jobs=-1)\n",
    "#rfr = RandomForestRegressor(n_estimators=120, max_features=best_max_features, random_state=1, n_jobs=-1)\n",
    "clfRF.fit(X_train, y_train)\n",
    "#Luego se hacen predicciones sobre la muestra\n",
    "prediccionRF=clfRF.predict(X_test)\n",
    "mse = mean_squared_error(y_test, prediccionRF)\n",
    "print(f\"El MSE del modelo es: {mse}\")\n",
    "#print(f\"El R2 del modelo es: {r2_score(y_test, prediccionRF)}\")\n"
   ]
  },
  {
   "cell_type": "code",
   "execution_count": 221,
   "metadata": {},
   "outputs": [
    {
     "data": {
      "text/plain": [
       "14506824.640715629"
      ]
     },
     "execution_count": 221,
     "metadata": {},
     "output_type": "execute_result"
    }
   ],
   "source": [
    "from sklearn.ensemble import VotingRegressor\n",
    "from sklearn.metrics import mean_squared_error\n",
    "\n",
    "# Creamos el ensamblaje de modelos\n",
    "ensemble = VotingRegressor([('xgb', clf), ('rf', clfRF)])\n",
    "\n",
    "# Ajustamos el ensamblaje a los datos de entrenamiento\n",
    "ensemble.fit(X_train, y_train)\n",
    "\n",
    "# Hacemos la predicción con el ensamblaje ajustado\n",
    "y_pred = ensemble.predict(X_test)\n",
    "\n",
    "# Calculamos el MSE del ensamblaje resultante\n",
    "mse = mean_squared_error(y_test, y_pred)\n",
    "mse"
   ]
  },
  {
   "cell_type": "markdown",
   "metadata": {},
   "source": [
    "### Con solo datos de entrenamiento"
   ]
  },
  {
   "cell_type": "code",
   "execution_count": 90,
   "metadata": {},
   "outputs": [
    {
     "name": "stdout",
     "output_type": "stream",
     "text": [
      "XGBRegressor(base_score=None, booster=None, callbacks=None,\n",
      "             colsample_bylevel=None, colsample_bynode=None,\n",
      "             colsample_bytree=None, early_stopping_rounds=None,\n",
      "             enable_categorical=False, eval_metric=None, feature_types=None,\n",
      "             gamma=None, gpu_id=None, grow_policy=None, importance_type=None,\n",
      "             interaction_constraints=None, learning_rate=None, max_bin=None,\n",
      "             max_cat_threshold=None, max_cat_to_onehot=None,\n",
      "             max_delta_step=None, max_depth=None, max_leaves=None,\n",
      "             min_child_weight=None, missing=nan, monotone_constraints=None,\n",
      "             n_estimators=100, n_jobs=None, num_parallel_tree=None,\n",
      "             predictor=None, random_state=None, ...)\n"
     ]
    }
   ],
   "source": [
    "\n",
    "#LEARNING RATE 0.8  GAMA 0.1 COLSAMPLE 0.95\n",
    "clf = XGBRegressor(learning_rate=0.8, gamma = 0.1, colsample_bytree = 0.95)\n",
    "clf = XGBRegressor()\n",
    "print(clf)\n",
    "# Entrenamiento (fit) y desempeño del modelo XGBoost\n",
    "clf.fit(X, y)\n",
    "y_pred = clf.predict(dataTesting)"
   ]
  },
  {
   "cell_type": "code",
   "execution_count": 91,
   "metadata": {},
   "outputs": [],
   "source": [
    "from sklearn.ensemble import RandomForestRegressor\n",
    "#Se entrena el modelo random forest\n",
    "clfRF = RandomForestRegressor(n_estimators=290, max_features=24,max_depth= 187, random_state=1, n_jobs=-1)\n",
    "clfRF.fit(X, y)\n",
    "#Luego se hacen predicciones sobre la muestra\n",
    "prediccionRF=clfRF.predict(dataTesting)\n"
   ]
  },
  {
   "cell_type": "code",
   "execution_count": 92,
   "metadata": {},
   "outputs": [],
   "source": [
    "from sklearn.ensemble import VotingRegressor\n",
    "from sklearn.metrics import mean_squared_error\n",
    "\n",
    "#Creamos el ensamblaje de modelos\n",
    "ensemble = VotingRegressor([('xgb', clf), ('rf', clfRF)])\n",
    "\n",
    "# Ajustamos el ensamblaje a los datos de entrenamiento\n",
    "ensemble.fit(X, y)\n",
    "\n",
    "# Hacemos la predicción con el ensamblaje ajustado\n",
    "y_pred2 = ensemble.predict(dataTesting)\n"
   ]
  },
  {
   "cell_type": "markdown",
   "metadata": {},
   "source": [
    "### Descarga predicciones"
   ]
  },
  {
   "cell_type": "code",
   "execution_count": 32,
   "metadata": {},
   "outputs": [],
   "source": [
    "y_pred2 = pd.DataFrame(y_pred2)"
   ]
  },
  {
   "cell_type": "code",
   "execution_count": 33,
   "metadata": {},
   "outputs": [
    {
     "data": {
      "text/html": [
       "<div>\n",
       "<style scoped>\n",
       "    .dataframe tbody tr th:only-of-type {\n",
       "        vertical-align: middle;\n",
       "    }\n",
       "\n",
       "    .dataframe tbody tr th {\n",
       "        vertical-align: top;\n",
       "    }\n",
       "\n",
       "    .dataframe thead th {\n",
       "        text-align: right;\n",
       "    }\n",
       "</style>\n",
       "<table border=\"1\" class=\"dataframe\">\n",
       "  <thead>\n",
       "    <tr style=\"text-align: right;\">\n",
       "      <th></th>\n",
       "      <th>0</th>\n",
       "    </tr>\n",
       "  </thead>\n",
       "  <tbody>\n",
       "    <tr>\n",
       "      <th>0</th>\n",
       "      <td>22193.105721</td>\n",
       "    </tr>\n",
       "    <tr>\n",
       "      <th>1</th>\n",
       "      <td>35275.711028</td>\n",
       "    </tr>\n",
       "    <tr>\n",
       "      <th>2</th>\n",
       "      <td>21919.952509</td>\n",
       "    </tr>\n",
       "    <tr>\n",
       "      <th>3</th>\n",
       "      <td>9071.534370</td>\n",
       "    </tr>\n",
       "    <tr>\n",
       "      <th>4</th>\n",
       "      <td>29585.441741</td>\n",
       "    </tr>\n",
       "  </tbody>\n",
       "</table>\n",
       "</div>"
      ],
      "text/plain": [
       "              0\n",
       "0  22193.105721\n",
       "1  35275.711028\n",
       "2  21919.952509\n",
       "3   9071.534370\n",
       "4  29585.441741"
      ]
     },
     "execution_count": 33,
     "metadata": {},
     "output_type": "execute_result"
    }
   ],
   "source": [
    "y_pred2.to_csv('test_submission.csv', index_label='ID')\n",
    "y_pred2.head()"
   ]
  },
  {
   "cell_type": "markdown",
   "metadata": {},
   "source": [
    "## Exportacion modelo entrenado"
   ]
  },
  {
   "cell_type": "code",
   "execution_count": 93,
   "metadata": {},
   "outputs": [
    {
     "data": {
      "text/plain": [
       "['model.pkl']"
      ]
     },
     "execution_count": 93,
     "metadata": {},
     "output_type": "execute_result"
    }
   ],
   "source": [
    "import joblib\n",
    "joblib.dump(ensemble,filename='model.pkl')"
   ]
  }
 ],
 "metadata": {
  "kernelspec": {
   "display_name": "Python 3 (ipykernel)",
   "language": "python",
   "name": "python3"
  },
  "language_info": {
   "codemirror_mode": {
    "name": "ipython",
    "version": 3
   },
   "file_extension": ".py",
   "mimetype": "text/x-python",
   "name": "python",
   "nbconvert_exporter": "python",
   "pygments_lexer": "ipython3",
   "version": "3.9.12"
  }
 },
 "nbformat": 4,
 "nbformat_minor": 4
}
